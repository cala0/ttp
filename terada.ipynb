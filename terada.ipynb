{
  "nbformat": 4,
  "nbformat_minor": 0,
  "metadata": {
    "colab": {
      "name": "terada.ipynb",
      "version": "0.3.2",
      "provenance": [],
      "collapsed_sections": [
        "K5B4XexkcGeo"
      ],
      "include_colab_link": true
    },
    "kernelspec": {
      "name": "python3",
      "display_name": "Python 3"
    },
    "accelerator": "GPU"
  },
  "cells": [
    {
      "cell_type": "markdown",
      "metadata": {
        "id": "view-in-github",
        "colab_type": "text"
      },
      "source": [
        "<a href=\"https://colab.research.google.com/github/cala0/ttp/blob/master/terada.ipynb\" target=\"_parent\"><img src=\"https://colab.research.google.com/assets/colab-badge.svg\" alt=\"Open In Colab\"/></a>"
      ]
    },
    {
      "cell_type": "markdown",
      "metadata": {
        "id": "0tq33oJ9Y7If",
        "colab_type": "text"
      },
      "source": [
        "# doc2vecで寺田寅彦先生の随筆レコメンド"
      ]
    },
    {
      "cell_type": "markdown",
      "metadata": {
        "id": "9aL5S-uZsi_C",
        "colab_type": "text"
      },
      "source": [
        "##0. 準備"
      ]
    },
    {
      "cell_type": "markdown",
      "metadata": {
        "id": "ZAg7MSzHsouQ",
        "colab_type": "text"
      },
      "source": [
        "###Google Driveのマウント"
      ]
    },
    {
      "cell_type": "code",
      "metadata": {
        "id": "_peJQCKTIF3K",
        "colab_type": "code",
        "colab": {}
      },
      "source": [
        "from google.colab import drive\n",
        "drive.mount('/content/drive')"
      ],
      "execution_count": 0,
      "outputs": []
    },
    {
      "cell_type": "markdown",
      "metadata": {
        "id": "ltD49FyJ7Zfm",
        "colab_type": "text"
      },
      "source": [
        "###時刻表示をJST\n",
        "\n",
        "★　環境変数TZの内容はセルをまたいでは引き継がれない。\n",
        ".bashrcに書き込んでもだめ。"
      ]
    },
    {
      "cell_type": "code",
      "metadata": {
        "id": "kO6V5FJG4UsV",
        "colab_type": "code",
        "colab": {
          "base_uri": "https://localhost:8080/",
          "height": 218
        },
        "outputId": "833d03c3-0bb3-41af-d6e4-b6c8077feb63"
      },
      "source": [
        "%%bash\n",
        "\n",
        "echo \"export TZ='Asia/Tokyo'\" > .bashrc\n",
        "source .bashrc\n",
        "ls -la"
      ],
      "execution_count": 162,
      "outputs": [
        {
          "output_type": "stream",
          "text": [
            "total 4036\n",
            "drwxr-xr-x 1 root root    4096 May  5 21:15 .\n",
            "drwxr-xr-x 1 root root    4096 May  5 14:12 ..\n",
            "-rw-r--r-- 1 root root      23 May  5 21:29 .bashrc\n",
            "drwxr-xr-x 1 root root    4096 Apr 30 01:32 .config\n",
            "-rw-r--r-- 1 root root   24420 May  5 18:57 doc_list.txt\n",
            "-rw-r--r-- 1 root root    5283 May  5 15:18 doc_name.txt\n",
            "-rw-r--r-- 1 root root 4040395 May  5 15:18 doc_text.txt\n",
            "drwx------ 3 root root    4096 May  5 14:15 drive\n",
            "-rw-r--r-- 1 root root   11809 May  5 14:35 res.txt\n",
            "drwxr-xr-x 1 root root    4096 Apr 30 01:32 sample_data\n",
            "drwxrwx--- 2 root  999   20480 Apr 21 23:54 terada\n"
          ],
          "name": "stdout"
        }
      ]
    },
    {
      "cell_type": "code",
      "metadata": {
        "id": "YEGdYWSh5T3N",
        "colab_type": "code",
        "colab": {
          "base_uri": "https://localhost:8080/",
          "height": 218
        },
        "outputId": "0ffc54a3-4705-4ca4-9864-d93767377782"
      },
      "source": [
        "%%bash\n",
        "\n",
        "ls -la"
      ],
      "execution_count": 165,
      "outputs": [
        {
          "output_type": "stream",
          "text": [
            "total 4036\n",
            "drwxr-xr-x 1 root root    4096 May  5 12:15 .\n",
            "drwxr-xr-x 1 root root    4096 May  5 05:12 ..\n",
            "-rw-r--r-- 1 root root      23 May  5 12:29 .bashrc\n",
            "drwxr-xr-x 1 root root    4096 Apr 29 16:32 .config\n",
            "-rw-r--r-- 1 root root   24420 May  5 09:57 doc_list.txt\n",
            "-rw-r--r-- 1 root root    5283 May  5 06:18 doc_name.txt\n",
            "-rw-r--r-- 1 root root 4040395 May  5 06:18 doc_text.txt\n",
            "drwx------ 3 root root    4096 May  5 05:15 drive\n",
            "-rw-r--r-- 1 root root   11809 May  5 05:35 res.txt\n",
            "drwxr-xr-x 1 root root    4096 Apr 29 16:32 sample_data\n",
            "drwxrwx--- 2 root  999   20480 Apr 21 14:54 terada\n"
          ],
          "name": "stdout"
        }
      ]
    },
    {
      "cell_type": "markdown",
      "metadata": {
        "id": "ga-TwRIzZhrB",
        "colab_type": "text"
      },
      "source": [
        "##1. 青空文庫からデータ収集"
      ]
    },
    {
      "cell_type": "markdown",
      "metadata": {
        "id": "RQdA9sEr4Zt0",
        "colab_type": "text"
      },
      "source": [
        "###メタデータの収集"
      ]
    },
    {
      "cell_type": "code",
      "metadata": {
        "id": "ncPO-qyG4x7h",
        "colab_type": "code",
        "outputId": "9057e4fd-5f2f-4b91-9ab4-f8d4d2889855",
        "colab": {
          "base_uri": "https://localhost:8080/",
          "height": 4872
        }
      },
      "source": [
        "#coding: UTF-8\n",
        "import urllib.request, urllib.error  # for Python3 urllib2\n",
        "from bs4 import BeautifulSoup\n",
        "import time\n",
        "\n",
        "urls = []\n",
        "titles = []\n",
        "\n",
        "# 作家別作品リスト（寺田寅彦）のページを開き、\n",
        "list_page = urllib.request.urlopen('https://www.aozora.gr.jp/index_pages/person42.html')\n",
        "list_soup = BeautifulSoup(list_page, \"html.parser\")\n",
        "\n",
        "# 各作品の図書カードへのリンクから\n",
        "for card in list_soup.select(\"body > ol > li > a\"):\n",
        "\n",
        "    # 作品タイトルと図書カードURLを取得\n",
        "    title = card.text\n",
        "    card_url = 'https://www.aozora.gr.jp/' + card.get('href')[3:]\n",
        "\n",
        "    try:\n",
        "        # 当該作品の図書カードのページを開き、\n",
        "        card_page = urllib.request.urlopen(card_url)\n",
        "        card_soup = BeautifulSoup(card_page, \"html.parser\")\n",
        "    \n",
        "        # 作品ダウンロードへのリンク（いますぐXHTML版で読む）から、作品URLを取得\n",
        "        url = 'https://www.aozora.gr.jp/cards/000042/' + card_soup.select_one(\"body > div:nth-of-type(3) > a:nth-of-type(2)\").get('href')[2:]\n",
        "    \n",
        "        # タイトルとURLをリストに記録\n",
        "        urls.append(url)\n",
        "        titles.append(title)\n",
        "        print(title, url)\n",
        "    \n",
        "        time.sleep(1)\n",
        "        \n",
        "    except:\n",
        "        print(title + '... error skip!')\n"
      ],
      "execution_count": 0,
      "outputs": [
        {
          "output_type": "stream",
          "text": [
            "アインシュタイン https://www.aozora.gr.jp/cards/000042/files/43074_23773.html\n",
            "アインシュタインの教育観 https://www.aozora.gr.jp/cards/000042/files/43075_17200.html\n",
            "秋の歌 https://www.aozora.gr.jp/cards/000042/files/24389_14050.html\n",
            "浅草紙 https://www.aozora.gr.jp/cards/000042/files/42218_16351.html\n",
            "浅間山麓より https://www.aozora.gr.jp/cards/000042/files/42255_17203.html\n",
            "あひると猿 https://www.aozora.gr.jp/cards/000042/files/2341_13485.html\n",
            "雨の上高地 https://www.aozora.gr.jp/cards/000042/files/49596_35542.html\n",
            "雨の上高地 https://www.aozora.gr.jp/cards/000042/files/4625_10265.html\n",
            "嵐 https://www.aozora.gr.jp/cards/000042/files/24390_14052.html\n",
            "ある幻想曲の序 https://www.aozora.gr.jp/cards/000042/files/24391_14266.html\n",
            "ある探偵事件 https://www.aozora.gr.jp/cards/000042/files/42160_16452.html\n",
            "ある日の経験 https://www.aozora.gr.jp/cards/000042/files/43439_17199.html\n",
            "案内者 https://www.aozora.gr.jp/cards/000042/files/2444_10269.html\n",
            "伊香保 https://www.aozora.gr.jp/cards/000042/files/4653_13834.html\n",
            "異郷 https://www.aozora.gr.jp/cards/000042/files/24392_24588.html\n",
            "池 https://www.aozora.gr.jp/cards/000042/files/2453_11109.html\n",
            "生ける人形 https://www.aozora.gr.jp/cards/000042/files/2468_11120.html\n",
            "異質触媒作用 https://www.aozora.gr.jp/cards/000042/files/42227_16355.html\n",
            "イタリア人 https://www.aozora.gr.jp/cards/000042/files/24429_15851.html\n",
            "糸車 https://www.aozora.gr.jp/cards/000042/files/2502_10276.html\n",
            "伊吹山の句について https://www.aozora.gr.jp/cards/000042/files/2452_11126.html\n",
            "浮世絵の曲線 https://www.aozora.gr.jp/cards/000042/files/2450_11115.html\n",
            "蛆の効用 https://www.aozora.gr.jp/cards/000042/files/52234_41954.html\n",
            "埋もれた漱石伝記資料 https://www.aozora.gr.jp/cards/000042/files/24428_15852.html\n",
            "歌の口調 https://www.aozora.gr.jp/cards/000042/files/46412_24589.html\n",
            "宇宙の始まり https://www.aozora.gr.jp/cards/000042/files/1150_40143.html\n",
            "アレニウス スヴァンテ... error skip!\n",
            "宇都野さんの歌 https://www.aozora.gr.jp/cards/000042/files/46413_24590.html\n",
            "映画芸術 https://www.aozora.gr.jp/cards/000042/files/2469_9349.html\n",
            "映画雑感（Ⅴ） https://www.aozora.gr.jp/cards/000042/files/43278_17201.html\n",
            "映画雑感（Ⅵ） https://www.aozora.gr.jp/cards/000042/files/43277_17202.html\n",
            "映画雑感（Ⅰ） https://www.aozora.gr.jp/cards/000042/files/2467_9719.html\n",
            "映画雑感（Ⅲ） https://www.aozora.gr.jp/cards/000042/files/2497_9350.html\n",
            "映画雑感（Ⅶ） https://www.aozora.gr.jp/cards/000042/files/46437_47771.html\n",
            "映画雑感（Ⅱ） https://www.aozora.gr.jp/cards/000042/files/2481_9720.html\n",
            "映画雑感（Ⅳ） https://www.aozora.gr.jp/cards/000042/files/2498_10277.html\n",
            "映画時代 https://www.aozora.gr.jp/cards/000042/files/339_15304.html\n",
            "映画と生理 https://www.aozora.gr.jp/cards/000042/files/2496_10278.html\n",
            "映画の世界像 https://www.aozora.gr.jp/cards/000042/files/2465_9660.html\n",
            "映画「マルガ」に現われた動物の闘争 https://www.aozora.gr.jp/cards/000042/files/2482_9661.html\n",
            "鸚鵡のイズム https://www.aozora.gr.jp/cards/000042/files/43249_17204.html\n",
            "踊る線条 https://www.aozora.gr.jp/cards/000042/files/2491_11316.html\n",
            "御返事（石原純君へ） https://www.aozora.gr.jp/cards/000042/files/46414_24591.html\n",
            "思い出草 https://www.aozora.gr.jp/cards/000042/files/2490_11025.html\n",
            "音楽的映画としての「ラヴ・ミ・トゥナイト」 https://www.aozora.gr.jp/cards/000042/files/2470_11117.html\n",
            "怪異考 https://www.aozora.gr.jp/cards/000042/files/2344_13796.html\n",
            "海水浴 https://www.aozora.gr.jp/cards/000042/files/24427_15755.html\n",
            "海陸風と夕なぎ https://www.aozora.gr.jp/cards/000042/files/42147_23316.html\n",
            "蛙の鳴声 https://www.aozora.gr.jp/cards/000042/files/24426_15364.html\n",
            "科学者とあたま https://www.aozora.gr.jp/cards/000042/files/2359_13797.html\n",
            "科学者と芸術家 https://www.aozora.gr.jp/cards/000042/files/1108_13798.html\n",
            "科学上における権威の価値と弊害 https://www.aozora.gr.jp/cards/000042/files/42693_18075.html\n",
            "科学上の骨董趣味と温故知新 https://www.aozora.gr.jp/cards/000042/files/42694_18076.html\n",
            "科学と文学 https://www.aozora.gr.jp/cards/000042/files/2358_13799.html\n",
            "科学に志す人へ https://www.aozora.gr.jp/cards/000042/files/4360_9287.html\n",
            "柿の種 https://www.aozora.gr.jp/cards/000042/files/1684_11274.html\n",
            "学位について https://www.aozora.gr.jp/cards/000042/files/42696_18077.html\n",
            "学問の自由 https://www.aozora.gr.jp/cards/000042/files/43535_24583.html\n",
            "火山の名について https://www.aozora.gr.jp/cards/000042/files/2348_15305.html\n",
            "火事教育 https://www.aozora.gr.jp/cards/000042/files/2476_11318.html\n",
            "家庭の人へ https://www.aozora.gr.jp/cards/000042/files/42161_18162.html\n",
            "鐘に釁る https://www.aozora.gr.jp/cards/000042/files/2353_13800.html\n",
            "カメラをさげて https://www.aozora.gr.jp/cards/000042/files/2460_10266.html\n",
            "烏瓜の花と蛾 https://www.aozora.gr.jp/cards/000042/files/43250_17196.html\n",
            "からすうりの花と蛾 https://www.aozora.gr.jp/cards/000042/files/2338_13486.html\n",
            "鴉と唱歌 https://www.aozora.gr.jp/cards/000042/files/42256_18079.html\n",
            "軽井沢 https://www.aozora.gr.jp/cards/000042/files/1697_10184.html\n",
            "枯菊の影 https://www.aozora.gr.jp/cards/000042/files/24425_15365.html\n",
            "変った話 https://www.aozora.gr.jp/cards/000042/files/4359_9286.html\n",
            "感覚と科学 https://www.aozora.gr.jp/cards/000042/files/2356_13801.html\n",
            "神田を散歩して https://www.aozora.gr.jp/cards/000042/files/42148_13765.html\n",
            "観点と距離 https://www.aozora.gr.jp/cards/000042/files/42695_18078.html\n",
            "議会の印象 https://www.aozora.gr.jp/cards/000042/files/43251_17036.html\n",
            "喫煙四十年 https://www.aozora.gr.jp/cards/000042/files/42257_18493.html\n",
            "疑問と空想 https://www.aozora.gr.jp/cards/000042/files/2361_13802.html\n",
            "球根 https://www.aozora.gr.jp/cards/000042/files/2333_13492.html\n",
            "窮理日記 https://www.aozora.gr.jp/cards/000042/files/24424_14051.html\n",
            "教育映画について https://www.aozora.gr.jp/cards/000042/files/43279_25182.html\n",
            "郷土的味覚 https://www.aozora.gr.jp/cards/000042/files/24423_15366.html\n",
            "記録狂時代 https://www.aozora.gr.jp/cards/000042/files/2484_11317.html\n",
            "銀座アルプス https://www.aozora.gr.jp/cards/000042/files/2478_9721.html\n",
            "空想日録 https://www.aozora.gr.jp/cards/000042/files/2480_10338.html\n",
            "沓掛より https://www.aozora.gr.jp/cards/000042/files/2488_10337.html\n",
            "車 https://www.aozora.gr.jp/cards/000042/files/24422_14354.html\n",
            "ＫからＱまで https://www.aozora.gr.jp/cards/000042/files/43252_17032.html\n",
            "研究的態度の養成 https://www.aozora.gr.jp/cards/000042/files/42697_18494.html\n",
            "言語と道具 https://www.aozora.gr.jp/cards/000042/files/42698_18495.html\n",
            "小浅間 https://www.aozora.gr.jp/cards/000042/files/2506_13838.html\n",
            "小泉八雲秘稿画本「妖魔詩話」 https://www.aozora.gr.jp/cards/000042/files/2505_9345.html\n",
            "工学博士末広恭二君 https://www.aozora.gr.jp/cards/000042/files/43076_18496.html\n",
            "高原 https://www.aozora.gr.jp/cards/000042/files/42258_18500.html\n",
            "高知がえり https://www.aozora.gr.jp/cards/000042/files/24421_15367.html\n",
            "コーヒー哲学序説 https://www.aozora.gr.jp/cards/000042/files/2479_9658.html\n",
            "五月の唯物観 https://www.aozora.gr.jp/cards/000042/files/42162_17883.html\n",
            "凩 https://www.aozora.gr.jp/cards/000042/files/24420_15368.html\n",
            "言葉の不思議 https://www.aozora.gr.jp/cards/000042/files/42768_23763.html\n",
            "子猫 https://www.aozora.gr.jp/cards/000042/files/2336_13491.html\n",
            "ゴルフ随行記 https://www.aozora.gr.jp/cards/000042/files/42259_18757.html\n",
            "西鶴と科学 https://www.aozora.gr.jp/cards/000042/files/42699_18762.html\n",
            "歳時記新註 https://www.aozora.gr.jp/cards/000042/files/43568_24586.html\n",
            "災難雑考 https://www.aozora.gr.jp/cards/000042/files/2500_13848.html\n",
            "鎖骨 https://www.aozora.gr.jp/cards/000042/files/2475_11315.html\n",
            "錯覚数題 https://www.aozora.gr.jp/cards/000042/files/2486_10342.html\n",
            "雑感 https://www.aozora.gr.jp/cards/000042/files/43536_23756.html\n",
            "雑記（Ⅰ） https://www.aozora.gr.jp/cards/000042/files/42220_16617.html\n",
            "雑記帳より（Ⅰ） https://www.aozora.gr.jp/cards/000042/files/42261_18759.html\n",
            "雑記帳より（Ⅱ） https://www.aozora.gr.jp/cards/000042/files/42262_18761.html\n",
            "雑記（Ⅱ） https://www.aozora.gr.jp/cards/000042/files/42219_16450.html\n",
            "札幌まで https://www.aozora.gr.jp/cards/000042/files/42260_18758.html\n",
            "さまよえるユダヤ人の手記より https://www.aozora.gr.jp/cards/000042/files/42228_16358.html\n",
            "さるかに合戦と桃太郎 https://www.aozora.gr.jp/cards/000042/files/2489_10343.html\n",
            "猿の顔 https://www.aozora.gr.jp/cards/000042/files/42163_17884.html\n",
            "三斜晶系 https://www.aozora.gr.jp/cards/000042/files/2501_13850.html\n",
            "自画像 https://www.aozora.gr.jp/cards/000042/files/2438_10299.html\n",
            "子規自筆の根岸地図 https://www.aozora.gr.jp/cards/000042/files/24419_15369.html\n",
            "鴫つき https://www.aozora.gr.jp/cards/000042/files/24417_15371.html\n",
            "鴫突き https://www.aozora.gr.jp/cards/000042/files/24416_15370.html\n",
            "子規の追憶 https://www.aozora.gr.jp/cards/000042/files/24418_15372.html\n",
            "試験管 https://www.aozora.gr.jp/cards/000042/files/2487_10344.html\n",
            "時事雑感 https://www.aozora.gr.jp/cards/000042/files/2458_11112.html\n",
            "地震雑感 https://www.aozora.gr.jp/cards/000042/files/43077_18763.html\n",
            "静岡地震被害見学記 https://www.aozora.gr.jp/cards/000042/files/4391_13509.html\n",
            "自然界の縞模様 https://www.aozora.gr.jp/cards/000042/files/2354_13803.html\n",
            "自然現象の予報 https://www.aozora.gr.jp/cards/000042/files/42700_19220.html\n",
            "詩と官能 https://www.aozora.gr.jp/cards/000042/files/2503_9318.html\n",
            "芝刈り https://www.aozora.gr.jp/cards/000042/files/2332_13495.html\n",
            "ジャーナリズム雑感 https://www.aozora.gr.jp/cards/000042/files/2492_10275.html\n",
            "写生紀行 https://www.aozora.gr.jp/cards/000042/files/2442_11128.html\n",
            "写生紀行 https://www.aozora.gr.jp/cards/000042/files/4654_13836.html\n",
            "自由画稿 https://www.aozora.gr.jp/cards/000042/files/2504_9355.html\n",
            "重兵衛さんの一家 https://www.aozora.gr.jp/cards/000042/files/24412_15373.html\n",
            "障子の落書 https://www.aozora.gr.jp/cards/000042/files/24415_15374.html\n",
            "小爆発二件 https://www.aozora.gr.jp/cards/000042/files/2507_13840.html\n",
            "蒸発皿 https://www.aozora.gr.jp/cards/000042/files/2483_11319.html\n",
            "昭和二年の二科会と美術院 https://www.aozora.gr.jp/cards/000042/files/42213_19496.html\n",
            "書簡（Ⅰ） https://www.aozora.gr.jp/cards/000042/files/24414_24584.html\n",
            "書簡（Ⅱ） https://www.aozora.gr.jp/cards/000042/files/24413_15375.html\n",
            "初冬の日記から https://www.aozora.gr.jp/cards/000042/files/42263_22347.html\n",
            "塵埃と光 https://www.aozora.gr.jp/cards/000042/files/43078_24592.html\n",
            "震災日記より https://www.aozora.gr.jp/cards/000042/files/4671_13525.html\n",
            "新春偶語 https://www.aozora.gr.jp/cards/000042/files/4669_13508.html\n",
            "新年雑俎 https://www.aozora.gr.jp/cards/000042/files/42264_21547.html\n",
            "神話と地球物理学 https://www.aozora.gr.jp/cards/000042/files/2357_13804.html\n",
            "随筆難 https://www.aozora.gr.jp/cards/000042/files/4361_23394.html\n",
            "数学と語学 https://www.aozora.gr.jp/cards/000042/files/2364_13805.html\n",
            "ステッキ https://www.aozora.gr.jp/cards/000042/files/33198_13268.html\n",
            "スパーク https://www.aozora.gr.jp/cards/000042/files/42229_16359.html\n",
            "相撲 https://www.aozora.gr.jp/cards/000042/files/1689_9344.html\n",
            "青衣童女像 https://www.aozora.gr.jp/cards/000042/files/2459_11121.html\n",
            "青磁のモンタージュ https://www.aozora.gr.jp/cards/000042/files/2463_11122.html\n",
            "石油ランプ https://www.aozora.gr.jp/cards/000042/files/43253_17031.html\n",
            "瀬戸内海の潮と潮流 https://www.aozora.gr.jp/cards/000042/files/43079_24593.html\n",
            "先生への通信 https://www.aozora.gr.jp/cards/000042/files/2434_11127.html\n",
            "戦争と気象学 https://www.aozora.gr.jp/cards/000042/files/43254_24594.html\n",
            "千人針 https://www.aozora.gr.jp/cards/000042/files/43255_17030.html\n",
            "相対性原理側面観 https://www.aozora.gr.jp/cards/000042/files/2343_13806.html\n",
            "颱風雑俎 https://www.aozora.gr.jp/cards/000042/files/4670_13511.html\n",
            "高浜さんと私 https://www.aozora.gr.jp/cards/000042/files/24411_15376.html\n",
            "鷹を貰い損なった話 https://www.aozora.gr.jp/cards/000042/files/24410_15754.html\n",
            "旅日記から https://www.aozora.gr.jp/cards/000042/files/1682_11116.html\n",
            "田丸先生の追憶 https://www.aozora.gr.jp/cards/000042/files/2473_9316.html\n",
            "短歌の詩形 https://www.aozora.gr.jp/cards/000042/files/46415_24595.html\n",
            "断水の日 https://www.aozora.gr.jp/cards/000042/files/2445_10301.html\n",
            "断片（Ⅰ） https://www.aozora.gr.jp/cards/000042/files/42222_16353.html\n",
            "断片（Ⅱ） https://www.aozora.gr.jp/cards/000042/files/42221_16354.html\n",
            "小さな出来事 https://www.aozora.gr.jp/cards/000042/files/42164_17885.html\n",
            "蓄音機 https://www.aozora.gr.jp/cards/000042/files/2446_10267.html\n",
            "地図をながめて https://www.aozora.gr.jp/cards/000042/files/2508_10272.html\n",
            "知と疑い https://www.aozora.gr.jp/cards/000042/files/1694_9657.html\n",
            "茶わんの湯 https://www.aozora.gr.jp/cards/000042/files/2363_13807.html\n",
            "チューインガム https://www.aozora.gr.jp/cards/000042/files/43256_17035.html\n",
            "追憶の医師達 https://www.aozora.gr.jp/cards/000042/files/24409_15377.html\n",
            "追憶の冬夜 https://www.aozora.gr.jp/cards/000042/files/24408_15378.html\n",
            "津田青楓君の画と南画の芸術的価値 https://www.aozora.gr.jp/cards/000042/files/43280_23766.html\n",
            "津浪と人間 https://www.aozora.gr.jp/cards/000042/files/4668_13510.html\n",
            "徒然草の鑑賞 https://www.aozora.gr.jp/cards/000042/files/43257_17197.html\n",
            "帝展を見ざるの記 https://www.aozora.gr.jp/cards/000042/files/43281_23767.html\n",
            "「手首」の問題 https://www.aozora.gr.jp/cards/000042/files/2466_11123.html\n",
            "田園雑感 https://www.aozora.gr.jp/cards/000042/files/2441_10303.html\n",
            "天災と国防 https://www.aozora.gr.jp/cards/000042/files/2509_9319.html\n",
            "電車と風呂 https://www.aozora.gr.jp/cards/000042/files/42388_17033.html\n",
            "電車の混雑について https://www.aozora.gr.jp/cards/000042/files/2449_11267.html\n",
            "天文と俳句 https://www.aozora.gr.jp/cards/000042/files/1691_13786.html\n",
            "凍雨と雨氷 https://www.aozora.gr.jp/cards/000042/files/43080_24596.html\n",
            "東上記 https://www.aozora.gr.jp/cards/000042/files/24407_15379.html\n",
            "解かれた象 https://www.aozora.gr.jp/cards/000042/files/2337_13496.html\n",
            "時の観念とエントロピーならびにプロバビリティ https://www.aozora.gr.jp/cards/000042/files/2362_13808.html\n",
            "読書の今昔 https://www.aozora.gr.jp/cards/000042/files/2464_9659.html\n",
            "土佐の地名 https://www.aozora.gr.jp/cards/000042/files/43081_19221.html\n",
            "どんぐり https://www.aozora.gr.jp/cards/000042/files/827_13489.html\n",
            "とんびと油揚 https://www.aozora.gr.jp/cards/000042/files/2340_13497.html\n",
            "中村彝氏の追憶 https://www.aozora.gr.jp/cards/000042/files/43282_23768.html\n",
            "夏 https://www.aozora.gr.jp/cards/000042/files/42230_16356.html\n",
            "夏の小半日 https://www.aozora.gr.jp/cards/000042/files/43034_23755.html\n",
            "夏目先生の俳句と漢詩 https://www.aozora.gr.jp/cards/000042/files/43569_24585.html\n",
            "夏目漱石先生の追憶 https://www.aozora.gr.jp/cards/000042/files/2472_9315.html\n",
            "鉛をかじる虫 https://www.aozora.gr.jp/cards/000042/files/42165_16451.html\n",
            "二科会その他 https://www.aozora.gr.jp/cards/000042/files/43283_23769.html\n",
            "二科会展覧会雑感 https://www.aozora.gr.jp/cards/000042/files/43284_23770.html\n",
            "二科狂想行進曲 https://www.aozora.gr.jp/cards/000042/files/43285_23771.html\n",
            "二科展院展急行瞥見 https://www.aozora.gr.jp/cards/000042/files/43286_23772.html\n",
            "二十四年前 https://www.aozora.gr.jp/cards/000042/files/2451_11111.html\n",
            "日常身辺の物理的諸問題 https://www.aozora.gr.jp/cards/000042/files/2349_13809.html\n",
            "日本楽器の名称 https://www.aozora.gr.jp/cards/000042/files/2456_11110.html\n",
            "日本人の自然観 https://www.aozora.gr.jp/cards/000042/files/2510_13846.html\n",
            "ニュース映画と新聞記事 https://www.aozora.gr.jp/cards/000042/files/2477_10339.html\n",
            "庭の追憶 https://www.aozora.gr.jp/cards/000042/files/2494_10340.html\n",
            "根岸庵を訪う記 https://www.aozora.gr.jp/cards/000042/files/24406_15380.html\n",
            "猫の穴掘り https://www.aozora.gr.jp/cards/000042/files/42265_19222.html\n",
            "ねずみと猫 https://www.aozora.gr.jp/cards/000042/files/2335_13494.html\n",
            "年賀状 https://www.aozora.gr.jp/cards/000042/files/4390_13842.html\n",
            "俳諧瑣談 https://www.aozora.gr.jp/cards/000042/files/1690_21581.html\n",
            "俳諧の本質的概論 https://www.aozora.gr.jp/cards/000042/files/2471_9353.html\n",
            "俳句の型式とその進化 https://www.aozora.gr.jp/cards/000042/files/2512_9352.html\n",
            "俳句の精神 https://www.aozora.gr.jp/cards/000042/files/2513_12242.html\n",
            "化け物の進化 https://www.aozora.gr.jp/cards/000042/files/2346_13810.html\n",
            "函館の大火について https://www.aozora.gr.jp/cards/000042/files/2493_10273.html\n",
            "箱根熱海バス紀行 https://www.aozora.gr.jp/cards/000042/files/42266_24582.html\n",
            "蜂が団子をこしらえる話 https://www.aozora.gr.jp/cards/000042/files/42166_17940.html\n",
            "初旅 https://www.aozora.gr.jp/cards/000042/files/24405_14049.html\n",
            "話の種 https://www.aozora.gr.jp/cards/000042/files/43570_23765.html\n",
            "花物語 https://www.aozora.gr.jp/cards/000042/files/2331_13487.html\n",
            "破片 https://www.aozora.gr.jp/cards/000042/files/2511_9351.html\n",
            "春寒 https://www.aozora.gr.jp/cards/000042/files/2439_10321.html\n",
            "春六題 https://www.aozora.gr.jp/cards/000042/files/2440_10298.html\n",
            "半日ある記 https://www.aozora.gr.jp/cards/000042/files/24404_15381.html\n",
            "Ｂ教授の死 https://www.aozora.gr.jp/cards/000042/files/2515_10279.html\n",
            "比較言語学における統計的研究法の可能性について https://www.aozora.gr.jp/cards/000042/files/2345_13811.html\n",
            "ピタゴラスと豆 https://www.aozora.gr.jp/cards/000042/files/42267_18786.html\n",
            "人魂の一つの場合 https://www.aozora.gr.jp/cards/000042/files/2360_13812.html\n",
            "一つの思考実験 https://www.aozora.gr.jp/cards/000042/files/2448_11124.html\n",
            "人の言葉――自分の言葉 https://www.aozora.gr.jp/cards/000042/files/42214_19497.html\n",
            "備忘録 https://www.aozora.gr.jp/cards/000042/files/2455_10268.html\n",
            "病院の夜明けの物音 https://www.aozora.gr.jp/cards/000042/files/2435_10270.html\n",
            "病院風景 https://www.aozora.gr.jp/cards/000042/files/24403_15382.html\n",
            "病室の花 https://www.aozora.gr.jp/cards/000042/files/2436_10271.html\n",
            "病中記 https://www.aozora.gr.jp/cards/000042/files/42223_16352.html\n",
            "藤棚の陰から https://www.aozora.gr.jp/cards/000042/files/2495_9722.html\n",
            "藤の実 https://www.aozora.gr.jp/cards/000042/files/2339_13490.html\n",
            "二つの正月 https://www.aozora.gr.jp/cards/000042/files/24402_15383.html\n",
            "物質群として見た動物群 https://www.aozora.gr.jp/cards/000042/files/2355_13813.html\n",
            "物質とエネルギー https://www.aozora.gr.jp/cards/000042/files/42701_23757.html\n",
            "物理学圏外の物理的現象 https://www.aozora.gr.jp/cards/000042/files/2351_13814.html\n",
            "物理学実験の教授について https://www.aozora.gr.jp/cards/000042/files/42702_23758.html\n",
            "物理学と感覚 https://www.aozora.gr.jp/cards/000042/files/2342_13815.html\n",
            "物理学の応用について https://www.aozora.gr.jp/cards/000042/files/42703_23759.html\n",
            "PROFESSOR TAKEMATU OKADA https://www.aozora.gr.jp/cards/000042/files/43534_24597.html\n",
            "文学の中の科学的要素 https://www.aozora.gr.jp/cards/000042/files/42704_23760.html\n",
            "ベルリン大学 https://www.aozora.gr.jp/cards/000042/files/24401_15384.html\n",
            "方則について https://www.aozora.gr.jp/cards/000042/files/42705_23761.html\n",
            "星 https://www.aozora.gr.jp/cards/000042/files/24400_15385.html\n",
            "北氷洋の氷の割れる音 https://www.aozora.gr.jp/cards/000042/files/2474_10274.html\n",
            "マーカス・ショーとレビュー式教育 https://www.aozora.gr.jp/cards/000042/files/43258_17198.html\n",
            "まじょりか皿 https://www.aozora.gr.jp/cards/000042/files/24399_15386.html\n",
            "祭 https://www.aozora.gr.jp/cards/000042/files/24398_14355.html\n",
            "マルコポロから https://www.aozora.gr.jp/cards/000042/files/43259_17029.html\n",
            "丸善と三越 https://www.aozora.gr.jp/cards/000042/files/2437_10300.html\n",
            "漫画と科学 https://www.aozora.gr.jp/cards/000042/files/42706_23762.html\n",
            "蓑田先生 https://www.aozora.gr.jp/cards/000042/files/1693_10186.html\n",
            "簔虫と蜘蛛 https://www.aozora.gr.jp/cards/000042/files/2334_13493.html\n",
            "耳と目 https://www.aozora.gr.jp/cards/000042/files/42769_23764.html\n",
            "明治三十二年頃 https://www.aozora.gr.jp/cards/000042/files/24397_15387.html\n",
            "木蓮 https://www.aozora.gr.jp/cards/000042/files/1696_10187.html\n",
            "物売りの声 https://www.aozora.gr.jp/cards/000042/files/2514_9317.html\n",
            "森の絵 https://www.aozora.gr.jp/cards/000042/files/24396_15753.html\n",
            "野球時代 https://www.aozora.gr.jp/cards/000042/files/1692_9662.html\n",
            "厄年と etc. https://www.aozora.gr.jp/cards/000042/files/4435_13844.html\n",
            "鑢屑 https://www.aozora.gr.jp/cards/000042/files/42224_16360.html\n",
            "山中常盤双紙 https://www.aozora.gr.jp/cards/000042/files/43287_25183.html\n",
            "やもり物語 https://www.aozora.gr.jp/cards/000042/files/24395_15388.html\n",
            "夕凪と夕風 https://www.aozora.gr.jp/cards/000042/files/43082_23774.html\n",
            "雪ちゃん https://www.aozora.gr.jp/cards/000042/files/24394_15389.html\n",
            "夢 https://www.aozora.gr.jp/cards/000042/files/24393_15390.html\n",
            "夢判断 https://www.aozora.gr.jp/cards/000042/files/42268_18785.html\n",
            "Liber Studiorum https://www.aozora.gr.jp/cards/000042/files/2457_11125.html\n",
            "ラジオ雑感 https://www.aozora.gr.jp/cards/000042/files/42231_16357.html\n",
            "ラジオ・モンタージュ https://www.aozora.gr.jp/cards/000042/files/2462_11118.html\n",
            "流言蜚語 https://www.aozora.gr.jp/cards/000042/files/43260_17028.html\n",
            "竜舌蘭 https://www.aozora.gr.jp/cards/000042/files/2330_13488.html\n",
            "量的と質的と統計的と https://www.aozora.gr.jp/cards/000042/files/2350_13816.html\n",
            "亮の追憶 https://www.aozora.gr.jp/cards/000042/files/2447_11114.html\n",
            "涼味数題 https://www.aozora.gr.jp/cards/000042/files/2485_10341.html\n",
            "ルクレチウスと科学 https://www.aozora.gr.jp/cards/000042/files/2347_13818.html\n",
            "レーリー卿（Lord Rayleigh） https://www.aozora.gr.jp/cards/000042/files/43083_23775.html\n",
            "連句雑俎 https://www.aozora.gr.jp/cards/000042/files/2461_11119.html\n",
            "ロプ・ノールその他 https://www.aozora.gr.jp/cards/000042/files/2352_13819.html\n",
            "路傍の草 https://www.aozora.gr.jp/cards/000042/files/2454_11113.html\n",
            "わが中学時代の勉強法 https://www.aozora.gr.jp/cards/000042/files/1695_10185.html\n",
            "笑い https://www.aozora.gr.jp/cards/000042/files/2443_10322.html\n"
          ],
          "name": "stdout"
        }
      ]
    },
    {
      "cell_type": "code",
      "metadata": {
        "id": "xK28B5ZnU0Vh",
        "colab_type": "code",
        "colab": {}
      },
      "source": [
        "# タイトルとURLのリストをファイルに書き出す\n",
        "doc_list = open(\"doc_list.txt\", \"w\")\n",
        "\n",
        "for i in range(len(titles)):\n",
        "    doc_list.write(str(i+1) + ', ' + titles[i] + ', ' + urls[i] + '\\n')\n",
        "    \n",
        "doc_list.close()"
      ],
      "execution_count": 0,
      "outputs": []
    },
    {
      "cell_type": "markdown",
      "metadata": {
        "id": "CKK49dMDaDJr",
        "colab_type": "text"
      },
      "source": [
        "★「宇宙の始まり」は、著者アレニウス スヴァンテ、訳者寺田寅彦なので、作者IDが違う。000226\n"
      ]
    },
    {
      "cell_type": "code",
      "metadata": {
        "id": "_czIzUWYWcfr",
        "colab_type": "code",
        "outputId": "065cc1da-476f-40fd-bbe3-9a1c7859551c",
        "colab": {
          "base_uri": "https://localhost:8080/",
          "height": 67
        }
      },
      "source": [
        "!cat doc_list.txt"
      ],
      "execution_count": 0,
      "outputs": [
        {
          "output_type": "stream",
          "text": [
            "1, アインシュタイン, https://www.aozora.gr.jp/cards/000042/files/43074_23773.html\n",
            "2, アインシュタインの教育観, https://www.aozora.gr.jp/cards/000042/files/43075_17200.html\n",
            "3, 秋の歌, https://www.aozora.gr.jp/cards/000042/files/24389_14050.html\n"
          ],
          "name": "stdout"
        }
      ]
    },
    {
      "cell_type": "code",
      "metadata": {
        "id": "kFNJDl6nW2zN",
        "colab_type": "code",
        "outputId": "591bf087-dc78-43cc-f95d-a58ac4c79476",
        "colab": {
          "base_uri": "https://localhost:8080/",
          "height": 101
        }
      },
      "source": [
        "%%bash\n",
        "wc *.txt\n",
        "cp *.txt /content/drive/'My Drive'/'Colab Notebooks'/TTP/"
      ],
      "execution_count": 0,
      "outputs": [
        {
          "output_type": "stream",
          "text": [
            "    288     869   24420 doc_list.txt\n",
            "    286     286    5283 doc_name.txt\n",
            "    286  572889 4040395 doc_text.txt\n",
            "    286    3146   11809 res.txt\n",
            "   1146  577190 4081907 total\n"
          ],
          "name": "stdout"
        }
      ]
    },
    {
      "cell_type": "markdown",
      "metadata": {
        "id": "6QiD_uCarRpy",
        "colab_type": "text"
      },
      "source": [
        "###作品一括ダウンロード\n",
        "###作品テキストの整形\n",
        "*   SJISからUTF-8へ変換\n",
        "*   ルビ、注記、ヘッダ、フッタ類を削除\n",
        "\n",
        "###とりあえず、Google Driveから収集済の作品テキストを展開する"
      ]
    },
    {
      "cell_type": "code",
      "metadata": {
        "id": "wMDxcIHsIhHe",
        "colab_type": "code",
        "colab": {}
      },
      "source": [
        "%cd /content\n",
        "!ls\n",
        "!tar zxvf /content/drive/'My Drive'/'Colab Notebooks'/TTP/terada.tar.gz .\n",
        "!ls"
      ],
      "execution_count": 0,
      "outputs": []
    },
    {
      "cell_type": "markdown",
      "metadata": {
        "id": "STdq99bQbZ8o",
        "colab_type": "text"
      },
      "source": [
        "##2. MeCabで形態素解析"
      ]
    },
    {
      "cell_type": "markdown",
      "metadata": {
        "id": "K5B4XexkcGeo",
        "colab_type": "text"
      },
      "source": [
        "###MeCabのインストール"
      ]
    },
    {
      "cell_type": "code",
      "metadata": {
        "id": "OChw_chJbmCr",
        "colab_type": "code",
        "colab": {}
      },
      "source": [
        "!apt install aptitude\n",
        "!aptitude install mecab libmecab-dev mecab-ipadic-utf8 git make curl xz-utils file -y"
      ],
      "execution_count": 0,
      "outputs": []
    },
    {
      "cell_type": "code",
      "metadata": {
        "id": "P7Yqzm9Zb4w2",
        "colab_type": "code",
        "colab": {}
      },
      "source": [
        "!pip install mecab-python3"
      ],
      "execution_count": 0,
      "outputs": []
    },
    {
      "cell_type": "code",
      "metadata": {
        "id": "4hMZW8hub_8y",
        "colab_type": "code",
        "outputId": "2db4a454-cbad-4cf3-dc18-bad018109c25",
        "colab": {
          "base_uri": "https://localhost:8080/",
          "height": 168
        }
      },
      "source": [
        "import MeCab\n",
        "\n",
        "m = MeCab.Tagger (\"-Ochasen\")\n",
        "print(m.parse (\"すもももももももものうち\"))"
      ],
      "execution_count": 0,
      "outputs": [
        {
          "output_type": "stream",
          "text": [
            "すもも\tスモモ\tすもも\t名詞-一般\t\t\n",
            "も\tモ\tも\t助詞-係助詞\t\t\n",
            "もも\tモモ\tもも\t名詞-一般\t\t\n",
            "も\tモ\tも\t助詞-係助詞\t\t\n",
            "もも\tモモ\tもも\t名詞-一般\t\t\n",
            "の\tノ\tの\t助詞-連体化\t\t\n",
            "うち\tウチ\tうち\t名詞-非自立-副詞可能\t\t\n",
            "EOS\n",
            "\n"
          ],
          "name": "stdout"
        }
      ]
    },
    {
      "cell_type": "markdown",
      "metadata": {
        "id": "1WwD3eQlc8Q-",
        "colab_type": "text"
      },
      "source": [
        "###作品テキストを形態素解析"
      ]
    },
    {
      "cell_type": "code",
      "metadata": {
        "id": "N6LNk1XLMlKL",
        "colab_type": "code",
        "colab": {}
      },
      "source": [
        "#coding: utf-8\n",
        "import sys\n",
        "import MeCab\n",
        "\n",
        "#\tmecabによる形態素解析：入力テキスト中の名詞、形容詞、動詞、副詞の標準表記のリストを返却する\n",
        "def extractKeyword(text):\n",
        "    tagger = MeCab.Tagger('-Ochasen')\n",
        "    text = text.replace('\\n', '')\n",
        "#    text = text.encode('utf-8')\n",
        "#    ★標準入力からUTF8のテキストファイルを読み込む場合、エラーになる\n",
        "    node = tagger.parseToNode(text)\n",
        "    keywords = []\n",
        "    while node:\n",
        "#        if node.feature.split(\",\")[0] == \"名詞\" and node.feature.split(\",\")[1] != \"非自立\":\n",
        "        if node.feature.split(\",\")[0] in [\"名詞\", \"動詞\", \"形容詞\", \"形容動詞\"]:\n",
        "#           print node.surface + \"\\t\" + node.feature\n",
        "            plain_word = node.feature.split(\",\")[6]\n",
        "            if plain_word != \"*\":\n",
        "                keywords.append(plain_word)\n",
        "            else:\n",
        "                keywords.append(node.surface)\n",
        "#                keywords.append(node.surface.decode('utf-8'))\n",
        "        node = node.next\n",
        "    return keywords"
      ],
      "execution_count": 0,
      "outputs": []
    },
    {
      "cell_type": "code",
      "metadata": {
        "id": "0WkEHc-EM9Nv",
        "colab_type": "code",
        "colab": {}
      },
      "source": [
        "from glob import glob\n",
        "\n",
        "doc_text = open(\"doc_text.txt\", \"w\")\n",
        "doc_name = open(\"doc_name.txt\", \"w\")\n",
        "\n",
        "for file in sorted(glob('terada/*.txt')):\n",
        "    f = open(file, \"r\")\n",
        "    txt = f.read()\n",
        "    f.close()\n",
        "    kwds = extractKeyword(txt)    \n",
        "\n",
        "    doc_text.write(' '.join(kwds) + '\\n')\n",
        "    doc_name.write(file.replace(dir_name+'/', '').replace('.txt', '') + '\\n')\n",
        "    \n",
        "doc_text.close()\n",
        "doc_name.close()"
      ],
      "execution_count": 0,
      "outputs": []
    },
    {
      "cell_type": "code",
      "metadata": {
        "id": "rXzxa4mMdmXL",
        "colab_type": "code",
        "outputId": "0b2de93c-0387-4100-cd2b-9cbc6b912b75",
        "colab": {
          "base_uri": "https://localhost:8080/",
          "height": 423
        }
      },
      "source": [
        "%%bash\n",
        "head doc_name.txt\n",
        "head doc_text.txt\n",
        "wc doc_*.txt"
      ],
      "execution_count": 0,
      "outputs": [
        {
          "output_type": "stream",
          "text": [
            "Liber_Studiorum\n",
            "PROFESSOR_TAKEMATU_OKADA\n",
            "「手首」の問題\n",
            "あひると猿\n",
            "ある幻想曲の序\n",
            "ある探偵事件\n",
            "ある日の経験\n",
            "からすうりの花と蛾\n",
            "さまよえるユダヤ人の手記より\n",
            "さるかに合戦と桃太郎\n",
            "LIBER STUDIORUM 寺田 寅彦 震災 後 復興 第一歩 行なう れる 浅草 凌雲 閣 爆破 見物 行く 工兵 数 人 かかる 塔 もと 穴 うがつ いる 穴 爆薬 仕掛ける 一 度 倒壊 する せる の 倒れる 方向 定める ため 倒す する 方向 側面 穴 数 多い する いる 準備 整う 予定 時刻 迫る 見物人 ら 一定 距離 画す 非常 線 外 退去 命ずる られる 自分 ら 花屋敷 鉄 檻 裏手 焼け跡 行く 合図 ラッパ 鳴る の 待つ いる 時 一 匹 のら犬 トボトボ 人間 許す れる 警戒 線 越える 倒壊 する 塔 ほう こと 知る ひもじい そう 焼け跡 土 かぐ 近寄る 行く の 見える 塔 もと まっか 雲 八方 ほとばしる わく 上がる 思う 塔 十 二 階 三 四 片 折れ曲がる 折れ線 なる 次 瞬間 粉々 もむ 砕く れる よう なる 目 見える 漏斗 紅殻 色 灰 落とす よう 直下 堆積 する ステッキ 倒す よう 倒れる もの 皆 考える いる の 塔 一方 壁 サーベル 立てる よう 形 なる くずれる 残る の 弱い 爆発 きれい もむ 砕く しまう 爆破 言葉 こわれる 方 ふさわしい 今 堅い 岩 できる いる もの 土 灰 落雁 よう もの 変わる たれる 落ちる 思う れる もと ダイナマイト 付近 爆裂 する 二 三 百 メートル 距離 豌豆 大 煉瓦 破片 一つ 二つ 飛ぶ 来る 石垣 ぶつかる の 見る 爆破 瞬間 四方 はい出す まっか 雲 珍しい がめ 紅毛 唐獅子 百 匹 一 度 おどる 出す よう くずれる 終わる 見物人 一 度 押し寄せる 酔狂 二 三 人 たち 先 争う 砕ける 煉瓦 山 頂上 駆ける 上がる 中 バンザーイ 叫ぶ の いる よう 記憶 する 明治 煉瓦 時代 最後 守り よう 踏みとどまる いる 巨人 立つ 腹 切る 倒れる その後 来る もの 鉄筋コンクリート 時代 ジャズ トーキー プロ 文学 時代 時 塔 ほう 近づく 行く 小犬 する 当時 思い出す たび 考える みる の これ だれ 聞く わかる そう ない 哀れ 存在 ある の 日 乗り合わせる 丸の内 電車 向かい側 腰 かける 中年 男女 二 人 連れ ある 男 洋服 着る 魚 屋 さん いう 風体 女 近所 八百屋 おかみ さん 思う れる 人がら 二 人 話し合う いる 姿態 顔 表情 至る 日本人 離れ する いる 周囲 おおい い 乗客 墓場 出る 来る よう 表情 二 人 する 愉快 そう 応答 する いる それ 夫婦 ない 情人 ない 平凡 ビジネス 関係 見える いる する それ アメリカ 魚 屋 さん アメリカ 八百屋 さん よう 見える の 不思議 二 人 昔 活動 写真 近ごろ 発声 映画 ファン ある 考える みる 仮定 する 他 説明 しかた ない あく 抜ける する ヤンキー タイプ 見せる いる 喫茶店 見受ける 若い 男女 活動 仕込み 表情 姿態 見る の 怪しむ ない これ 四 十 前後 堅気 男女 波及 する 来る の する これ 容易 なる 事 しれる 天平 時代 日本 都 男女 ふう する 唐 羅 タイプ 化す 行く の しれる 書店 二 階 食堂 昼飯 食う 窓 ガラス 越し 秋晴れ 空 ながめる いる 遠く 銀行 ビルディング 屋上 若い 男 二 人 昼休み 見える する いる 一 人 ワイシャツ 一つ なる 体操 する みる 駆け足 まね する みる ピッチャー 様子 する する いる 一 人 悠然 ズボン かくす 手 入れる 空 仰ぐ 長嘯 漫歩 する いる ふる い 空 まっさお ビルディング 壁面 あたたかい 黄土 色 輝く いる 光景 十 年 前 見る られる もの 二 人 時代 代表 する いる ジャズ はやる ゆえん 一週 一 度 永代 橋 渡る 往復 する 橋 中 西 寄り 所 電車 座席 西北 見る 河岸 迫る 無骨 巌 丈 倉庫 そびえる 上 重い 橋 つるす 鉄 帯 ゆるやか 曲線 描く たれる 下がる いる 景色 ない 美しい 線 細かい 広重 隅田川 消える しまう 代わり 鉄 コンクリート 新しい 隅田川 出現 する する それ 昔 ちがう 新しい 美しい さ 見せる いる の 霧 かかる 日 美しい 邦楽 座 わき 橋 上 数寄屋橋 ほう 晴れる 日暮れ 前 光線 見る 景色 かなり 美しい もの 一つ 川 岸 錯雑 する 建物 コンクリート 面 夕日 当たる 部分 あたたかい よい 色 する いる 日陰 部分 コバルト 紫 段階 色彩 変化 見せる いる それ ちりばめる 宝石 よう 白熱 燈 紅 青 紫 ネオン 燈 ともる 始める 白木屋 七 階 食堂 西向き 窓 大手町 ほう ながめる 朝 景色 珍しい 水平 一線 画す 高架 線路 上 省線 電車 走る 機関 車 まっ白 蒸気 吐く 通る それ 直交 する 弓なり 立つ 見える 呉服 橋 通り 道路 緑色 電車 ほか 白 赤 青 緑 バス 奇妙 甲虫 よう 上り いる おる 行き ちがう いる 遠く 城 角 櫓 見える 向こう 大内山 木 立ち 地平線 柔らか ぼかす いる 左 ほう 小豆色 東京 駅 横たわる はずれ 黄金 色 富士 見える 二つ 中間 議会 塔 そびえる いる 昔 ない がめ 百 年 前 眠る まま 眠り 通す 今 窓 目ざめる する こと 考える 一 杯 コーヒー すする の 震災 前 東京 高い 所 見おろす 一 面 鈍い 鉛 よう 灰色 屋根 海 それ 震災 後 あたたかい 明るい 愉快 色 調子 勝つ 来る それ 所 仰ぐ 見る 空 色 以前 深い 青い 見える だす よう 気 する これ コントラスト せい これ 著しい 色彩 変化 都 人 心 何 影響 及ぼす はず ない 気 する 東京 空気 年々 濁る はず 自動車 ガソリン 煙 霧 凝縮 核 供給 する こと もの 寒い 曇天 無風 夜 九 段 坂 上 下町 見る ロンドンフォッグ 思う せる もの ある これ 市民 モーラル 支配 する わけ ゆく 上野 デパートメントストア 前 通る 広小路 側 舗道 幕 張り回す 中 人形 動く いる 周囲 往来 人だかり する の 巡査 制す いる 直感 的 幕 中 人 死ぬ いる そう 気 する 夕刊 見る 飛び降りる 自殺 あまり 珍しい それ 数 日 後 屋上 庭園 今度 前 ちがう 建物 反対 側 飛ぶ 女 ある 庭園 閉鎖 する れる 数 日 たつ 大学 構内 通る 壮麗 図書館 屋上 立つ 一 人 玄関 前 噴水 池 見おろす いる 人 ある 学生 巡視 遠い わかる 変 気持ち する その後 数 日 たつ 後 大学 中央 そびえる 講堂 三 階 飛ぶ 学生 ある 夕刊 記事 読む 変 気持ち する 終わる 自殺 者 前 図書館 屋上 人 なん 関係 ない しれる 自分 頭 中 前後 四 人 屋上 人 一つ 鎖 つなぐ れる いる 臆病者 常 自分 高い 所 飛ぶ おりる こと 想像 する みる こと ある 乾坤一擲 言葉 場合 使う いける 自分 言葉 適切 思い出す れる 飛ぶ おりる しまう 自分 建物 所有 者 国土 宇宙 何もかも 一 ぺん 永久 無くなる の 飛ぶ 場所 適否 問題 何 ない 他 人 世界 残存 する 建物 事件 記憶 残る 数 日 たつ 後 雪 ふる 日 婦人 飼う いる 十姉妹 四 羽 一 度 死ぬ かかる の 手のひら のせる 一生懸命 火鉢 暖める いる 見る 冷たい なる しまう いる だめ する 気 すむ の いう 人間 死ぬ 経 あげる ある 人 いう 唯心 論 者 はいる の 大学 講堂 前 突き当たる 右 坂道 おりる する 曲がり角 パレット ナイフ よう 形 芝生 ある きちょうめん 曲がり角 曲がる あるく の 芝生 上 踏みにじる 行く の 歩く 距離 する 三 尺 ちがう 多く 人 三 尺 距離 歩行 節約 する 見える 芝生 そこ 踏みつぶす れる かわいそう はげる いる 事 人 話す それ 設計 悪い の いう 所 芝生 こしらえる の 間違う いる 言う れる それ 思う 上野 竹の台 入り口 二つ 並ぶ 噴水 できる 周囲 芝生 立ち入る 書く 明白 立て札 ある 事実 子供 供 供 芝生 立ち入る 水 面 のぞく 気 済まない の これ 設計 悪い 言う れる なる の 時代 推移 二 十 年 前 設計 立て札 自明 的 制札 無視 する の 没 公徳 的 悪い の 自分 郷里 今 知る 二 十 年 以前 婚礼 三々九度 杯 あげる いる 座敷 だれ かまう ドヤドヤ 上がり込む 片手 泥 だらけ 下駄 ぶら下げる まま 立ちはだかる 花嫁 花婿 鼻 高低 目じり 角度 品評 する それ 制する 門 扉 一 枚 毀つ れる 苦情 言える これ 一 九 三 〇 年 通り越す いる 考える られる 今度 法令 変わる 他人 家 黙る はいる 来る もの ピストル 向ける 放す いい こと なる 話 これ 芝生 場合 逆 方向 推移 アフリカ 内地 行く 今 国境 入り込む 視察 する いる いう 拘禁 する れる 場合 よる 命 あぶない 所 ある しれる これら 事実 関係 錯綜 する いる 考える 考える 考え 隠れん坊 する 結局 わかる なる の 時代 進む あと もどる はず 時代 波 位相 よう もの こと 繰り返す の しれる 繰り返す ない 何かしら ある もの 積分 蓄積 する いる 相違 ない 積分 する れる 掛け値 ない 正味 言う 結局 科学 収穫 気 する 思想 知恵 流行 物 一方 進む いる 思う れる 妙 夢 見る 大河 岸 建つ 家 楼 上 いる わけ わかる 自分 数 分の 後 別室 入る 自分 希望 する 自殺 決行 する なる こと なる いる 座敷 の こっち 見える 川 臨む 見晴らし いい きれい 部屋 川向 こう 見える 山 郷里 記憶 親しい 山 だれ 知れる 四 五 人 人々 そば いる おし黙る いる 五分 三 分 一 分 時刻 迫る 席 立つ 別室 はいる 時 死ぬ こと 平気 いる の そこ すわる 瞬間 急 死ぬ の いや なる それ 大河 堤 切り放す よう 生命 欲望 一 度 汎 濫 する 思う 恐ろしい うなる 声 よう もの 聞こえる 目 さます 二 三 日 前 ある 友人 ガ リレー ブルノ デカルト 話 する 学説 生命 天秤 かける 三 人 三 様 解決 論じる 時 頭 往来 する 重苦しい 雲 よう もの 中 何かしら 夢 見る させる もの ある しれる ブル 学問 宗教 生命 切り離す 事 できる デカルト これ 分化 する れる いる よう 見える ガ リレー 二 人 途中 立つ 悩む いる の 夢 見る 夜 寝しな 日 本紀 読む 橘奈良麻呂 ら 事件 ひどい 神経 刺激 する れる せい ある しれる 臆病者 夢 見る 昭和 五 年 三月 改造\n",
            "PROFESSOR TAKEMATU OKADA 寺田 寅彦 Prof . Takematu Okada was born on August 17 , 1874 , In Husa of Tiba Prefecture , a sunny and peaceful riverside town of the Great Tone '〕, within forty kilometres of the Pacific coast . When attending the Imperial University of Tokyo as a student of the College of Science he chose physics as his special course . After graduating in July 1899 , he was appointed as an Assistant Meteorologist in the Central Meteorological Observatory of Tokyo . This was at the time when meteorology in our country was still in its infant stage under the care of its foster - fathers , among whom we especially mention Prof . Kiyoo Nakamura , former Director of the Observatory , and Prof .〔 Yu ^ ji Wada , later Director of Zinsen Observatory in Korea . At that time the great majority of the students of physics cared little for meteorology and perhaps no one dreamed of the development of this branch of science in this country , a development reserved for future accomplishment by the hand of this young post - graduate in physics .　 The tasks which were entrusted to him were the most difficult ones , -- no less than those of the daily weather forecasting and storm - warnings . A physicist confined in his laboratory or lecture room can scarcely imagine the difficulties met with by those who are in charge of this kind of work , which is in immediate connection with the daily life of people who have little or no understanding of things scientific . He has had , indeed , to endure not only ill - humoured complaints of people but also the most unsympathetic criticisms by journalists and even by some scientists . He has , however , stood manfully in this difficult situation by gradually improving the scientific basis of the method of prediction as well as the organization of the net - work system of observation . For example , the reception of observation data from ships at sea was first put into practice upon his initiative in 1910 , previous to any other country , as his insight promptly perceived the urgent need of this means of obtaining data from the neighbouring seas , in view of the peculiar geographical location of this country . Observatories were also founded at Sionomisaki in 1912 , at Muroto Zaki and at Shanghai in 1919 to facilitate warnings of coming cyclones . In the meantime , he felt the need of founding a Marine Meteorological Observatory for a further development of the system of prediction and succeeded in raising the necessary fund from among the chief shipping companies and ship - owners . The institute was founded in 1919 of which he was appointed the first Director . M . S . \"〔 Syunpu ^- maru \" ( Spring - Breeze ) was constructed for the exclusive use of the observatory equipped with all the instruments and accessories necessary for regular oceanographical investigation . The results of research work carried out on board this ship have been published in a number of Reports and Memoirs . On the other hand Professor Okada was keenly alive to the necessity of a school devoted to the thorough education of the younger meteorologists who were destined to become the staff members of the central as well as of the local observatories . He therefore planned and founded an institution attached to the Central Meteorological Observatory in which the students were to attend a system of regular courses in different departments of physical and mathematical sciences . Among the list of the teachers we find the names of a number of the most eminent meteorologists of this country . In 1919 the installation of the wireless system for meteorological communication was completed in the Imperial Marine Observatory , for the first time in this country . Further development of this system of communication was effected by the installation of the sending stations at Okinawa , Naze and Isigaki , besides those in Tokyo and Ko ^ be , by which the first forecasting of approaching typhoons was observed and speedily reported to the central station .　 In 1923 Prof . K . Nakamura resigned and the chair of the Director of the Central Meteorological Observatory was filled by Prof . Okada while at the same time he retained the directorship of the Imperial Marine Observatory .　 Seismological observations which were being regularly made from the earlier dates were established on an entirely new status under his supervision , after the bitter experience of the Great Kwanto ^ Earthquake of 1923 〕, by improving and amplifying the instrumental equipments in a number of selected local observatories . The activity of the seismologists under his guidance may be judged from the number of the important papers already published .　 To provide for the rapid development of aeronautical practices he founded a special department of aeronautical meteorology in the Central Meteorological Observatory and , connected with it , a number of branch observatories in the vicinities of the chief aerodromes and also along the main regular routes of aerial communication .　 Those local observatories which are situated on islands or promontories and had been notorious for the frequent damage incurred by exceptional severity of cyclonic storms on account of their frail wooden structures were rebuilt into massive reinforced concrete buildings , so that they could stand from now on as undaunted sentinels in the face of raging typhoons .　 The Magnetic Observatory at Kakioka which was founded by the late Prof . K . Nakamura , has also been reconstructed and considerably amplified in its instrumental equipment .　 The extent and variety of the routine work officially carried out in the Central Meteorological Observatory were conspicuously enlarged since the day of his directorship , as may be judged from the increase in the number of the chairs of experts in charge of their respective special branches of work , such as precipitations , thunderstorms , wireless communications , aeronautics , agricultural meteorology , terrestrial magnetism , clocks , tides radiations , library and cartography . Moreover , workshops were installed respectively for printing , metal and wood working . On the other hand , the Mountain Observatories on Huzi , Tukuba , and Ibuki were either founded or reconstructed under his supervision .　 In Prof . Okada we find a happy combination of administrative ability with scientific talent , which is , as it seems , rather rarely the case at least in this country . While busily engaged in his bureau work which his official duty necessitates he manages somehow to find leisure to be devoted to his favourite research work . Among his earlier works , we may mention his papers dealing with the underground temperature , the conductivity of snow , the evaporation in the Inland Sea districts , the foehn - winds etc . His exhaustive investigations on the origin of the rainy season , \" Baiu ,\" is a genuine classic in this field . His work regarding the typhoon of the Far East comprises the fruits of his long practical experience of prediction service . It is interesting to remark that the most important law of motion of cyclones and anticyclones under mutual influences , which he discovered and later was named after him by Prof . Fujiwhara , was described not in any of his papers , but in his elementary text - book of meteorology .　 There are also some of his papers of a mathematical nature such as those regarding the geometrical construction for finding the centre and track of cyclone . Thanks to his natural sympathy towards the mathematical school of meteorology , a pleiades of able mathematicians have risen up among the younger generation of meteorologists under his unwearying guidance and cordial encouragement .　 At the same time he is deeply interested in the practical problem of long period weather prediction , especially in connection with the agricultural problem of the rice crop , a matter of most important national concern in this country . A series of papers have been published by him as well as by his collaborators on the correlation of different meteorological elements in the Far East and also on the prediction of rice crops . The recent compilation of \" Climate of Japan \" by Prof . Okada ' s own hand will be universally welcomed as an inexhaustible source for reference of useful data of which the reliability is insured by his own name , by all those who are engaged in any kind of scientific or practical work , as there is scarcely anything in this world which is entirely free form the influence of meteorological factors . He has also written a number of excellent books on meteorology , among which we may especially mention an elementary textbook for beginners , a treatise for advanced students , a book on rain and a manual for meteorological instruments . These are not only undisputedly the best of the kind ever written in our language , but they may well compete with those written in occidental languages by renowned authors and , besides , they abound with materials typical of the Far East .　 A series of short episodes and reminiscences by his fluent pen appears frequently in \" Umi to Sora \", which afford very interesting reading not only for meteorologists but also for scientist at large , being an embodiment of long year ' s experiences of a veteran scientist .　 Well deserved recognition of his achievements as a man of science is shown by the fact that in 1924 he was awarded the Symons ' s Gold Medal by the Royal Meteorological Society of London and in 1925 he was elected an Honorary Member of the same Society . Again , in 1931 , he was elected a Member of the Imperial Academy of Japan .　 Prof . Okada ' s deep love of science is perhaps connected with his bibliophilistic inclination which is well known among his friends . His private collection abounds with rare books not only in the domains of meteorology and geophysics but also in other fields of the natural sciences . It seems that the library of the Central Meteorological Observatory owes its richness and amplitude to this welcome propensity of the Director . The present writer has involuntarily acquired a wicked habit of appealing at once for Prof . Okada ' s assistance whenever puzzled in search of literature concerning some matters lying outsides of beaten tracks . Again , his own love of science combined with the cordiality of his personality which is revealed in his prompt assistance and kind encouragement given to any one engaged in any kind of original research , has resulted in fostering a fervent atmosphere of scientific enthusiasm among the younger staff members of the Central Meteorological Observatory as well as of its branch observatories , which have now risen to the level of the most active centres of scientific research of this country . This latter fact may be recognized also by the remarkable activity on the part of the members of the Meteorological Society of Japan . Its Meeting which was formerly held once a month is now regularly held twice .　 At the age of fifty eight he is still in his prime of youthful activities , with his everlasting zeal in weaving together the more and more elaborate net - work of the weather service of Japan , at the same time devoting his spare time as ever to his own research work , as it seems , as his most favourite hobby , and never neglecting his care for his beloved foster - children , who find in Prof . Okada a director , a teacher , a friend and at the same time their most affectionate father . It is merely the humblest expression of the profound feeling of gratitude on the part of this younger generation of Japanese meteorologists that they have here undertaken to compile the present Anniversary Volume and to devote it to the commemoration of his thirty years '　 service in the Central Meteorological Observatory with their heartfelt desire that Prof . Okada may always continue his activity in good health , on behalf of themselves as well as for the future prosperity of meteorological science in Japan .( Geophysical Magazine , Mar . 1932 )\n",
            "手首 問題 寺田 寅彦 バイオリン セロ ひく よい 音 出す の むつかしい もの 楽器 弓 ひく 下手 上手 別 楽器 よう 音 出る 下手 者 無理 弓 毛 弦 押しつける こする つける いや 音 しぼる 出す いる よう 見える 上手 玄人 なる 軽い あてがう 弓 楽器 中 美しい 音 流れ ぬく 出す いる よう 見える これ われわれ 素人 目 一種 魔術 思う れる 玄人 談 よる 強い フォルテ 出す の 弓 圧力 速度 うまい 出る もの ない そう イザイ 持つ いる バイオリン ブリジ 低い 弦 指 板 すれすれ なる いる 他人 強い ひく する 弦 指 板 ぶつかる 困る イザイ これ 驚く 強大 よい 音 出す そう 魔術 だく 品玉 弓 導く 右手 手首 ある 手首 関節 完全 柔らかい 自由 屈撓 性 備える いる 微妙 外力 変化 鋭敏 かつ 規則正しい 弾性 的 反応 する こと 必要 条件 これ 充分 科学 的 研究 できる いる 正確 事 言う れる ボーイング 秘密 主要 点 ここ ある 疑い ない こと よう 物理 学 的 考える みる 始まる 弦 振動 自然 進行 まま 進行 する せる エネルギー 逸散 補う 足る 供給 弦 弓 毛 摩擦 打ち勝つ 仕事 注ぎ込む 行く の 際 する 用 弓 無理 ある 規則正しい 進行 する いる 振動 一時 邪魔 する 急 途中 別 よけい 振動 紛れ込む せる する ため 音 きたない なる しまう の こと ない よう する ため 弓 敏感 弦 振動 状態 反応 する 弦 要求 する エネルギー 必要 する 有効 位相 供給 する なる 微妙 反応 機巧 弦 弓 一つ 有機 的 系統 形成 する いる 外部 わがまま 無理押し 加わる 事 緊要 弓 毛 むら ある なる 弓 根 もと 近い ほう 先端 近い ほう 関係 ちがう 変化 臨機 適当 順応 する 自由 弦 運動 助長 する 一 様 平滑 よい 音 出す ため 機械 的 一定 圧力 一定 速度 直線 的 弓 動かす いける それ デリケート 調節 器官 入用 大切 役目 務める の 弓 持つ 演奏 者 手首 普通 初等 物理 学 教科書 弦 独立 する 振動 体 よう こと なる いる あれ 厳密 言う 弦 楽器 全体 弓 演奏 者 手 くるめる 一つ 系統 考える ほう ほんとう 自分 思う れる 音 振動 数 弦 決定 する 音色 決定 する 因子 中 主要 もの 手首 運動 つかさどる ところ 筋肉 微妙 調節 ある よう 思う れる の よう 楽器 部分 手首 手首 屈曲 支配 する 筋肉 強直 する 弛緩 する 状態 なる いる 微細 力 変化 弾性 的 反応 する の なる の 手首 自由 問題 弦楽器 ボーイング 限る その他 いろいろ 技術 場合 起こる 来る おもしろい 玉突き する キュー 尻 ほう 持つ 手 手首 強直 する よう 自由 開放 する こと 必要 条件 手首 硬直 凝固 状態 なる いる キュー まっすぐ ピストン 的 運動 困難 なる 種々 突き 方 必要 キュー 速度 加速度 時間 的 経過 自由 調節 する こと 不可能 よう 見える 軽快 引き 球 できる できる 手首 自由 さ 係わる よう 思う れる の ゴルフ 自分 自身 体験 持ち合わせる の 氏 話 よる あれ クラブ 使用 自由 手首 問題 大切 こと なる いる そう スモークボール 飛ばす 打者 眩惑 する 投手 グローブ 投球 秘術 手首 ある 説 近ごろ ある 人 聞く 真偽 別 それ 力学 的 理解 する やすい こと 思う れる 中学 時代 居合い 抜き けいこ する せる られる こと ある 刀身 抜き さし 手首 運動 肝要 役目 勤める 真剣 上段 打つ おろす 時 ピューッ 音 する よう なる それ 刃 なる こと 必要 上 手首 自由 状態 ある こと 必要 条件 よう 思う れる 人 切る 場合 同様 こと 当てはまる 思う れる 撃剣 竹刀 打ち込む れる 電光石火 迅速 運動 手首 肝心 役目 務める こと 想像 する れる 話 偶然 ある 軍人 する それ おもしろい こと 言う 時 話す 聞く せる ところ よる 乗馬 けいこ する とき 手綱 かいくる 手首 自由 屈撓 性 養う ため 手首 回転 する せる 動作 繰り返す やらす れる そう 世の中 事 なん みんな 手首 問題 なる 来る よう 気 する の 言う すり こぎ とろろ する いる の 見る 手首 運用 巧拙 別れる よう 気 する 手首 人 異なる 個性 ある もの 事実 ある 偶然 機会 発見 する それ セロ 曲 中 出る 来る 急速 アルペジオ ひく 弦 弦 弓 手早い 移動 する せる ため 手首 いろいろ 角度 屈曲 する せる 練習 する いる 際 私 先生 手首 自分 手首 手首 曲がる 角度 変化 範囲 両極端 位置 平均 位置 角度 かなり 著しい 違う こと 気がつく の 先生 自然 無理 ない 手首 姿勢 弟子 自分 非常 苦しい 無理 不可能 近い もの なる の 先天的 相違 認める もらう それ 以外 要領 授かる 結果 事 なる しまう の 先生 弟子 手首 格好 見る 弟子 しかる わけ ゆく 手首 問題 自分 経験 これ 考える みる 手首 問題 思い出す せる よう 譬喩 的 手首 問題 ある こと 気がつく 科学 研究 従事 する もの ある 研究 題目 捕える 研究 取りかかる 何かしら ある 見当 つける する なる 思う 実験 始める 場合 研究 者 自我 心眼 明 曇らせる よう こと ある とんでも 失敗 する 恐れ ある 結果 見る 誤る 期待 する 点 とおり それ ほか 重大 事実 眼前 出現 する いる それ 盲目 ため 意外 誤る 結論 陥る 危険 ある 科学 者 眼前 現われる 現象 赤子 無私 無我 心 もつ いる なる 止 水明 鏡 もの 姿 有る まま 写す こと できる なる 武芸 達人 夜半 途上 後ろ 切りかける られる 身 かわす こと できる それ よう 心 態度 保つ こと できる 瞬時 間 現われる 消える よう 機微 現象 発見 する こと 不可能 それ 心 私 ない 心 手首 自由 柔らかい 弾性 的 こと 必要 の だれ ある 学者 次 よう こと 言う いる 自然 研究 者 自然 ねじ伏せる いける 自然 する 自然 おもむく 所 おもむく しめる よう 導く よい 自然 自身 する 自然 研究 する せる 自然 神秘 物語る せる よい する われわれ 心 空虚 する 自然 物語 耳 傾ける 忠実 記録 作る よい の これ 自分 現在 場合 言葉 翻訳 する 研究 手首 柔らかい する 実験 弓 自然 弦 線 自然 妙音 引き出す よい 言う れる 研究 者 先天的 手首 個性 差異 来る 手つき 相違 ある 結局 ほんとう 音 出す よい の 子供 教育 する の よう こと 言う れる これ 言うまでもない 昔 言う ふる する れる こと 教育 者 手首 堅い 上等 子供 能力 弦 線 充分 自己 振動 遂げる こと できる 結局 生涯 本音 出す おしまい なる 政治 事 自分 わかる 歴史 読む みる 為政者 君国 ため 蒼生 ため 国 行政 機関 運転 する せる 為政者 もの 誠意 誠心 報国 念 燃える いる いう 充分 思う れる 赤誠 ある それ 人 一 人 自我 立脚 する もの 赤誠 固執 する 強調 する 急 環境 趨勢 民心 流露 無視 する の 機関 円滑 運転 望む れる 内閣 する 閣僚 一 人 一 人 人間 立派 人 そろう いる 施政 方針 理想 的 為政 手首 堅い すぎる 国運 民心 弦 線 妙音 発する わけ 行く の 官 海 遊泳 術 もの その道 詳しい 人 話 の 伝聞 する こと ある それ よる 学校 卒業 する 役所 はいる 属僚 なる 一生懸命 まじめ 仕事 する いける 言う なまける いける の そう ふる 落ちる 不都合 話 思う の これ 善意 解釈 する みる 役人 たち めいめい 赤誠 自我 無理押し する 合う の 役所 有機 的 機関 円滑 運転 する 困る 意味 役所 会社 一つ オーケストラ よう もの みる メンバー 堅い 手首 めいめい 勝手 はげしい 轢音 放散 する 困る 思う れる 悪い 言う 要領 よい ごまかす 不祥 こと 言う 一つ 交響楽 演奏 する こと なる うる めいめい ソロ きかせる つもり 成り立つ の 中学 時代 おれ 何 主義 言う 力こぶ 入れる こと はやる かぼちゃ 食う 主義 いが くり 頭 通す 主義 無 帽 主義 の 愛嬌 ある 他人 迷惑 考慮 入れる 主義 ある 風呂 入る 主義 それ 年 取る 後 中学 時代 仕入れる 種類 主義 義理 立てる 忠実 守る つづける 来る 人 まれ ある これら 珍しい 手首 堅い 人 手首 柔らかい こと 無節操 卑屈 盲従 ない 他 一つ 機体 結合 する こと 結合 可能 最大 効率 上げる それ 自他 個性 発揚 する こと なる 孔子 釈迦 耶蘇 いろいろ ちがう 言葉 手首 柔らかい 保つ こと 説く いる よう 気 する 近ごろ 新しい 思想 説く 人 説 の 聞く いる それ 反対 なる こと なる 見える なん 相生 代わり 相剋 協和 代わり 争闘 行く うそ よう 教える られる の 理論 自分 わかる 三つ 音 協和 する 一つ 和 弦 構成 する こと 三つ 音 それぞれ 著しい 異なる 特徴 もつ いる それ いっしょ 戦う せる こと そこ 協和 音 シンセシス 生ずる 場合 争闘 相剋 争闘 ため 争闘 ない 協和 ため 争闘 勝手 音 無茶苦茶 衝突 する せる 合う の いたずら 耳 痛める バイオリン 音 出す の 弓 弦 摩擦 一つ 争闘 過程 弦 振動 誘発 する れる 考える られる それ 結局 弦 美しい 音 出す ため 争闘 過程 鋸 目立て よう 人間 耳 不快 音 出す ため ない の 弓 動かす 演奏 者 手首 わがまま 堅い それ 我利我利 不快 音 以外 音 出る 音 聞く 人 踊る 欧州 戦前 カイゼル・ウィルヘルム ドイツ 帝国 対外 方針 手首 堅い すぎる よう 見受ける られる 結果 世界 よう 戦乱 中 巻き込む の 気 する これ 手首 問題 関係 する いる 言う よい これ 盛運 上げ潮 乗る 緊張 過ぎる 結果 思う れる 深い かんがみる 近ごろ スペイン 舞姫 テレジーナ 舞踊 見る これ 手首 踊り よう 思う れる 不自然 強調 する れる 手首 アクセント 自分 強い すぎる よう 気 する これ 近代 人 闘争 趣味 合う の しれる 思う れる の 時代 思想 変わる バイオリン 音 出す 方 変わる ない の 不思議 思想 流動 する 科学 的 事実 動く 馬 手綱 とり方 要領 変わる の 千 年 二 千 年 たつ 馬 馬 一 人 哲学 者 一言 二 言 いう いう 人間 全体 別種 存在 変わる 人間 界 方 則 あべこべ なる こと 想像 できる 揺れる 電車 バス 中 立つ いる とき 心得 ひざ 関節 足首 関節 柔らかい 自由 する 心もち かかと 浮かせる 足 裏 前半 体重 もたせる 姿勢 とる の そう 地震 時 倒れる よう 歩く の 要領 こと これ 足 場合 手首 問題 言う れる 昭和 七 年 三月 中央公論\n",
            "あひる 猿 寺田 寅彦 去年 夏 信州 沓掛 駅 近い 湯川 上流 沿う 谷あい 星野 温泉 前後 二 回 合わせる 二 週間 日常 生活 煩い 免れる 閑静 暮らす の 健康 精神 目 見える よい 効果 ある よう 思う れる ことし 夏 奮発 する 出かける 行く 去年 家 ベランダ 出る 軒 かぶさる 厚 朴 広葉 見上げる 屋 前 広がる 池 静か 水面 見おろす とき 去年 夏 記憶 二 三 日 前 こと よう よみがえる 来る 十 か月 以上 月日 その間 経過 する 思う れる 信州 自分 もの 東京 自分 ほか 一つ ある それ 一 年 間 眠る いる それ 今 目 さます の よう 気 する の よう すべて もの 去年 よう 見る いる 相違 目 来る の 池 ぎわ 水面 おおう かぶさる よう 茂る 木 ある こと 知る いる それ 去年 見る 珍しい 十字形 白い 花 咲く いる それ 日比谷公園 一角 英国 寄贈 する れる もの 説明 札 つける 植える ある 花水木 の 花 似る いる よう 植物 図鑑 捜す みる これ やむ ぼうし 一 名 やむ ぐわ Cornus Kousa , Buerg .） もの 相当 する 季節 差違 去年 ない もの 今 目 前 出現 する よう 思う れる の 不注意 われわれ 素人 花 ない 樹木 針葉樹 扁葉 樹 二 色 十 種 二 十 種 区別 できる 花 咲く 見る そこ 何 新しい 別物 生まれる よう 感じる もの 無理 類推 ある 人間 個性 何 花 咲かせる みる 充分 存在 する あれ よう 気 する の 去年 七月 たくさん 池 まわり 遊ぶ いる 鶺鴒 ことし 七月 見える かわり 去年 一 匹 いる あひる ことし 十 三 羽 増殖 する いる 鴨 よう 羽 色 する つがい ほか 純白 雌 一 羽 白 孵化 する ひな 十 羽 ひな 七月 行く 時 黄色い 綿 作る おもちゃ よう 格好 羽根 琴 爪 大きい さ 形 もの 延びる 上がる 一 人前 羽ばたく まね 事 する の 妙 麦笛 吹く よう 声 ピーピー 鳴き 立てる ベランダ 前 寄る 来る 飯 余り せんべい 欠け ら ねだる の 池 はいる 思う せわしない 水中 もぐり込む 底 泥 くちばし せせる 歩く 水中 泳ぐ 格好 滑稽 愛敬 ある 水上 見る られる 異形 妖精 姿 鳥 先祖 爬虫 そう どこ 鰐 水中 泳ぐ 姿 似る ところ ある よう 親鳥 格好 する 水中 泳ぐ 回る こと 見る こと ない 点 子供 ほう 親 多芸 有能 言う れる 親鳥 逆立ち する しっぽ 天 朝する する くちばし 自然 池底 届く の ひな鳥 全身 没す もぐる 目的 達する 自然 要求 芸当 する の 水中 もぐる いる 時間 測る みる ひな鳥 ほう 著しい 長い 大概 七 秒 八 秒 間 もぐる 水底 泳ぐ 回る いる 親鳥 ほう 三 四 秒 頭 上げる これ ひな 親鳥 生理 的 機能 差 ある こと 意味 する の 思う れる 鴨 羽 雌雄 夫婦 おしどり 式 一 メートル 以内 間隔 保つ 遊弋 する いる 白 母 鳥 十 羽 ひな 別 一群 形づくる 移動 する いる 二 群 間 若干 尊敬 間隔 厳守 せる れる いる よう 見える いる ところ ある 日 神聖 規律 根底 破棄 する よう 椿事 起こる の 偶然 機会 目撃 する こと できる よう 夫婦 並ぶ 泳ぐ いる つがい 雄鳥 ほう けたたましい 羽音 立てる 水面 走り出す 思う 水中 全身 没す もぐり込む 水中 三 メートル 以上 突進 する 行く 静か 浮かぶ いる 白 親鳥 そば 浮き上がる 思う 首筋 食いつく 弱々しい 小柄 母 鳥 からだ 水中 押す 沈める 驚く 見る いる 暴君 哀れ 俘虜 釈放 する 何事 起こる よう 固有 雌鳥 一 メートル 以内 領域 泳ぎ ついて行く 善良 妻 世の中 何事 起こる よう 平静 態度 不倫 夫 迎える の 暴行 後 釈放 する れる 白い 母 鳥 取り乱す 羽毛 くちばし かいつくろう 心 身 じまい する 何事 ない よう これ 瞬間 驚き 回復 する 十 羽 ひな 引率 する 池 反対 側 泳ぐ 行く の 離婚 問題 慰藉 料 問題 鳥 世界 起こる 得る の 自分 到着 前 雄 二 羽 いる そう 中 一 羽 むやみ 暴戻 他 一 羽 虐待 する たび 今 いる 鴨 羽 雌 人間 仲 取りなす 顔 いう よう 様子 そば 近い 寄る 行く ちがう 特殊 低い 鳴き声 発す いる そう うち ある 日 暴君 雄鳥 姿 池 見る られる なる そう 宿 廚 料理 人 引致 する 連れる 行く もの 晩 宿 本館 一団 軍人 客 にぎやか そう とき 池 残す れる 弱虫 ほう 雄 今 池 王者 なる 暴君 なる ドンファン なる いる の 七月 末 帰京 する 二 週間 たつ 行く 見る 驚く の あひる ひな 生長 早い こと 黄色い うぶ 毛 消えうせる 一 人前 鴨 羽 近い 色彩 発現 見える ブーメラング 形 翼 胚芽 代わり 日本語 羽根 名 つける られる 程度 もの 発生 する いる 雌雄 区別 素人目 判然 する 見る しっぽ 近い 背面 羽 色 濃い 黒みがかる 縞 見える の 雄 思う れる あひる 場合 年 ごろ なる 雌雄 差 内分泌 分化 起こる ため 性的 差別 相当 する 外貌 上 区別 判然 分化 する もの 見える それ 体 量 間 莫大 増加 見せる 今 白 母 鳥 ほう ひな 中 大柄 の 小さい 見える 例 ドンファン 雄鳥 見る 羽 色 やつれる よう 首 まわり 美しい 黒い 輪 所 ら はげちょろけ いる の 急 年 取る よう 見える 変化 二 週間 間 起こる の 浦島 物語 ひな 形 よう もの しれる 植物 世界 去年 比べる 著しい 相違 見える 何 ことし 時候 著しい おくれる いる 思う れる 去年 八月 半ば たくさん 咲く いる 釣 舟 草 ことし ころ いくら 見つかる 九月 上旬 行く とき 温泉 前 渓流 向こう 側 林間 軌道 歩く いる そこ 道ばた 花 たくさん 咲き乱れる いる の 発見 する 星野 滞在 中 一 日 小諸 城 趾 見物 行く 城 大手 門 見込む 坂 下る 行く の 地形 拠る 城 存外 珍しい の 思う 藤村 庵 の ある そこ 藤村 氏 筆跡 壁 掛ける 並べる ある 藤村 文献 目録 備える ある 生きる 活動 する いる 文人 ゆかり ある 家 ふう する 古人 遺跡 よう 仕立てる ある の 珍しい よう 気 する 天守 台 跡 上る いる どこ からす の 鳴く いる の アベバ アベバ 聞こえる いう す 声 めった 聞く こと ない よう 気 する 石 崖 上 端 近い 一 高 学生 一 人 あぐら かく 上着 頭 かぶる 暑い 日 ざす 岩波 文庫 もの 読みふける いる 千曲川 スケッチ いう 年 ごろ なる みる よう 気 する の 園内 渓谷 渡す 釣り橋 渡る 行く とき 向こう 来る 浴衣 姿 青年 片手 さげる いる の 千曲川 スケッチ 絵 日傘 さす 田舎 くさい ドイツ 人 夫婦 恐ろしい い 子供 つれる 谷 見おろす いる 動物 園 ある 熊 せんべい 買う 口 中 投げ込む やる 口 にあう 下 落ちる せんべい ある うる 可能 性 考える 悠然 次 の 待つ いる 姿 罪 ない もの 自分 ら 並ぶ 見物 する いる 信州 人 おじさん 連れ 男 熊 人格 高い なん よう 話 する いる 熊 人格 珍しい 猿 檻 どこ 国 いちばん 人気 ある 中 一 匹 腰 抜ける 足 立つ の いる 他 仲間 よう 活動 断念 する 小屋 屋根 上 ごろごろ する いる それ する 移動 する なる 逆立ち する 麻痺 する 腰 あと 足 空中 高い さし 上げる 前足 自由 歩く 行く 猿 こと ある の これ オリジナル 吸う いる 巻く 煙草 吸いがら 檻 前 捨てる そこ しゃがむ 見物 する いる 土地 人 じいさん 火 つく いる まま 吸いがら 檻 中 投げ込む する 地べた すわる いる 猿 心得顔 手 出す 手のひら 広げる まま 吸いがら 地面 こする つける 器用 火 もみ消す しまう 燃えがら つまみ上げる 子細 手つき 巻く 紙 引く やぶる 中味 煙草 引き出す 思う それ 口中 運ぶ 思う 煙草 味わう いる の うまい そう ない あわてる 吐き出す の ない あたりまえ よう 様子 する すます いる の これ 珍しい 見もの ここ 猿 前 吸いがら 教育 受ける いる の 想像 する れる 絶壁 幕 かなた 八月 日光 照らす れる 千曲川 沿岸 平野 見おろす 景色 特有 美しい さ ある せみ 鳴く 松 こずえ 千曲川 句 できる 帰り 沓掛 駅 おりる 星野 行き 乗合 バス 発車 待つ いる 間 乗り組む 商人 運転 手 相手 先刻 トラック 老婆 ひく れる の 目撃 する 言う 足 肉 骨 きれい 離れる いる よう こと おもしろい そう 話す いる バス 発車 する 横合い はげしい 何 物 衝突 する 思う 車体 傾く 危うい 倒れる そう なる 止まる 西洋 人 おおい いる 乗る 用 車 の 十字路 横 飛び出す われわれ バス 後部 ぶつかる の 西洋 人 車 一方 泥 けが つぶれる すむ われわれ バス 横腹 へこむ ペイント はがれる 助かる 肥る 赤ら顔 快活 そう 西洋 人 一 人 おりる 立つ 曲がる 泥 引く 曲げる 直す 後 片手 高い さしあげる われわれ さしまねく 大声 ドモスミマシェン 言う 嫣然 一笑 する エンジン 爆音 立てる 威勢 よい 軽井沢 ほう 走り去る の 九月 初旬 三 度目 行く とき 宿 池 二 三 羽 鶺鴒 見る られる 去年 よう 大群 来る ことし あひる コロニー 優勢 なる 鶺鴒 領域 侵略 する しまう の 思う れる よう 現象 軽井沢 よう 土地 週 期 的 やって来る 渡り鳥 よう 避暑 客 人間 種類 見る られる 材料 手 入る 調べる みる もの 昭和 九 年 十二月 文学\n",
            "幻想曲 序 寺田 寅彦 何 ない 空虚 闇 中 急 焔 燃え上がる 墓 原 草 葉末 照らす 燐火 よう 深い 噴火口 底 ひらめく 硫火 舌 よう 燃え上がる 焔 光 照らす れる 暖炉 煤ける 空洞 現われる 焔 空洞 腹 嘗める 頂上 暗い 穴 吸い込む れる 穴 奥 ゴオ 風の音 する 焔 急 大きい なる 下 石炭 活きる 輝く 始める 炉 前 肘掛 椅子 埋もれる 一 人 白髪 老人 現われる 身動き 一つ する 焔 見詰める いる 焔 中 透す 過去 幻影 見詰める いる 焔 幕 向う 舞踊 場 拡がる いる 華やか 明るい 楽 音 つれる 胡蝶 よう 人 群 動く いる 焔 暗い なる 木深い 庭園 噴水 側 薔薇 咲き乱れる パアゴラ ある 蔭 男女 姿 見える どこ 夜 鶯 声 聞える 石炭 はじける 凄まじい 爆音 聞える 黒い 煙 渦巻く 立つ 昇る 物恐ろしい 戦場 現われる 鍋 物 いる つく よう 音 立てる 飛ぶ 来る 砲弾 眼 前 破裂 する 白い 煙 上 けし飛ぶ 枯木 黒い 影 見える 戦場 消える 町はずれ 森 蔭 草地 現われる 二 人 男 遠く なれる 向う 合う 立つ いる 二 人 右手 挙げる 思う 手 さき 白い 煙 出る 一 人 柱 倒す よう うつむく 倒れる 夜明け 光 森 上 拡がる 露 草原 虫 鳴く いる 草原 いる ない 海 変る 果 ない 波 原 分ける 行く 船 舷側 たれる 一 人 男 立つ いる 太陽 没す 水平 線 彼方 眺める いる 涙 緒 頬 伝わる 落ちる 夕映え 受ける 帆 色 血 よう 赤い 夕映え 雲 形 崩れる 金髪 女 現われる 乱れる 金髪 双 手 掻き乱す 空 仰ぐ 顔 絶望 色 ある 上 青い 星 輝く いる 炉 火 一時 くずれる 焔 消える 老人 さっき まま 姿勢 いつ 炉 火 見つめる いる 森 中 沼 ある 白樺 五 六 本 折れる 重なる 倒れる まま 朽ちる かかる いる 朽木 香 あたり 立つ 籠 め いる 遠く 角笛 音 する 犬 吠声 駒 蹄 音 聞える それ 近付く 来る 汀 草 中 鳥 飛び立つ 樹立 闇 消える 行く 猟 群 現われる 赤 い服 白い 袴 黒い 長靴 騎手 姿 樹 間 縫う 嵐 よう 通り過ぎる 群 離れる 犬 一疋 汀 飛ぶ 来る 草 間 嗅ぐ いる 笛 音 響く 弾く れる よう 駆け出す 群 後 追う 猟 群 通り過ぎる する 沼 面 鏡 よう 静まる いる こと ない ニンフ パン 群 出る 来る 眩しい よう 真昼 光 下 角逐 する 駈ける 狂う 汀 めぐる 汀 草 踏みしだく れる 水 しぶき 立つ 狂う 疲れる 樹 蔭 草原 眠る しまう 草原 花 たずねる 迷う 蜂 唸り 聞える 日 陰る 沼 面 薄 糸 よう 靄 立つ 始める 遠く 角笛 音 犬 遠吠え 聞える 来る ニンフ 群 どこ 行く 影 見える 大正 十 二 年 八月 明星\n",
            "探偵 事件 寺田 寅彦 数 年 前 ボーヤ 名づける 白 毛 猫 病死 する 以来 わが家 縁側 猫 もの 姿 見る 月日 流れる 先年 犬 養 内閣 成立 する 日 一 羽 ローラー カナリヤ 迷い込む 来る の 捕える 飼う いる うち 朝 不注意 逃がす しまう 日 夕方 帰宅 する 見る 茶の間 真中 一 匹 真白 猫 坐り込む 化粧 する いる 家人 聞く みる どこ ない 入り込む 来る もの 顔 家中 歩く 廻る いる そう それ 不思議 こと 死ぬ ボーヤ 小さい 時 尻尾 長い 尻尾 雉毛 紋様 ある 相違 どこ 飼猫 子 捨てる られる 迷う 来る 相違 ない 居着く しまう 白 命名 する れる 珍しい 鷹揚 猫 日 犬 追う れる 近所 家 塀 塀 間 遁 げ 込む まま 一 日 そこ しゃがむ いる の 捜し出す 連れる 来る こと ある スマラグド 色 眼 石竹色 唇 もつ 雄 猫 風貌 どこ エキゾチック 趣 ある 死ぬ 白 猫 母 宅 飼猫 白 雉毛 斑点 多分 もつ いる よる 前 白 猫 今度 白 父親 おなじ よる 白 ボーヤ 子 しれる 思う れる それ 思い当る の 一 頃 宅 忍び込む 来る 猫 中 一 匹 アンゴラ 種 立派 白 猫 ある それ する 白 父親 祖父 思う れる の 近ごろ なる ある 新聞 いろいろ ペット 話 連載 する れる いる うち 知名 某 家 猫 こと 出る いる 三 匹 猫 写真 掲載 する れる いる うち 一 匹 前述 アンゴラ 似る いる よう 思う れる これ 何 問題 なる 某 家 同姓 家 宅 二 三 町 ところ ある 一つ 問題 成立つ の 問題 型式 的 刑事 探偵 偶 出くわす 問題 よう もの 思う れる 問題 分析 する つぎ よう なる 問題 一 宅 近所 家 新聞 所載 家 同一 二 同一 家 猫 宅 庭 見かける 猫 同一 三 そう する 宅 白 猫 猫 血族 これ 与える られる 事実 与件 １ 名前 一致 近所 家 西洋 猫 いる 不明 ２ 新聞 写真 猫 猫 肖る 似る 記憶 他 実証 ない ３ ＢＣ 幾 分の 肖る 似る ４ 新聞 記事 よる 猫 不良 夜遊び 昼 遊び する 困る 飼主 夫人 証言 これ １ ２ ３ ４ いずれ 当面 問題 貧弱 データ これ 確か 結論 導き出せる こと 科学 者 待つ 明白 こと われわれ 人情 常識 １ ２ ３ ４ 一 二 三 肯定 する する 強い 誘惑 醸成 する その後 出入り 魚屋 証言 近所 家 白い 洋種 猫 いる 一つ 新しい 有力 データ 加える こと 出来る 東京 中 西洋 猫 飼う いる 姓 人 何 人 ある 不明 一 問題 不明 近所 家 猫 宅 猫 血族 関係 幾分 プロバビリチ 出来る いる 訳 下手 探偵 小説 １ ２ ３ ４ 一 二 三 誘導 する よう の ある する よう 論理 錯誤 刑事 事件 無実 罪 成立 する 恐れ ある する こと 考える させる られる の 近ごろ 大官 十 年 前 六 百 年 昔 逆賊 弁護 する こと ある ため 現職 辞する の やむない 立ち至る 事件 新聞 紙上 賑わす 十 年 前 甲 某 今日 甲 某 一 人 こと 確実 証人 無数 ある 問題 上述 猫 場合 何 関係 ない 種類 事柄 何 関係 ない こと かかわる 錯覚 何かしら 関係 ある よう 気 する の 自分 頭 迷誤 これ 不思議 錯覚 一 例 後日 参考 ため ついで 書添える おく こと する 昭和 九 年 二月 大阪毎日新聞\n",
            "日 経験 寺田 寅彦 上野 近く 人 尋ねる ついで 帝国 美術 院 展覧 会 見る 行く 久し振り 好い 秋日和 澄み切る 日光 中 桜 葉 散る いる 会場 前 道路 真中 天幕 張り 出来る かかる いる 何 式場 なる 柱 巻く 布 黒白 の ん なる いる ところ 見る 何かしら 厳か 儀式 ある よう 思う れる よう する 人夫 等 大勢 かかる それ 出来上がる 思う 式 終る 取る くずす なる 博覧 会 工事 大分 進行 する いる よう これ 一時 的 建築 使う いる 材木 見る 五 十 年 百 年 大きい なる 思う れる よう 立派 もの ある 勿体ない よう 気 する もの 使う 何 鋸屑 固める よう もの 建築 材料 作る それ 建てる いい 思う 美術 展覧 会 使う れる いる 建物 間に合せ 辺 もの みんな 間に合せ もの よう 気 する 気持 悪い 心持 いだく 展覧 会場 這入る 日本 画 見る 事 出来る 沢山 ある 見る 思う 絵 容易 見つかる そう ない 絵 見る もの 私 興味 起る 我慢 する 見る いい ところ 捜す やる 気 なれる の これら 絵 全体 受ける 感じ 近頃 少年 少女 向け 絵 雑誌 受ける よう もの 帝 展 人気 ある 所 因 事 よる ここ ある しれる 私 工合 悪い 気持 悪い 名高い 画家 達 もの 見る 私 面白味 分る 絵 見る 私 うち 複製 広重 江戸 名所 絵 一 枚 一 枚 見る いる 方 遥か 面白い 気持 好い の 洋画 方 行く 心持 ちがう 悪夢 さめる よう 感じ する 尤 頃 自分 油絵 よう もの かく いる もの 人 絵 見る 絵 がら 好き嫌い 無関係 テクニカル 興味 ある の どれ 見る 当り前 事 みんな 自分 上手 人 上手 点 頭 矢 つぎ 早 受ける 込む 感服 する 方 主 なる しまう 何かしら 胸 滲む 込む くる よう 感じ 容易 起る にくい みんな うまい 絵 描く 事 骨 折る いる の 疑い 起る 来る それ 大概 絵 それぞれ 意味 うまい ところ ある 事 自分 よう もの 分る 一体 自分 求める いる よう する 絵 処 始め 得る られる きまる いる の しれる おしまい 方 部屋 隅 女の子 像 一 枚 かかる いる 童女 黒地 赤い 縞 洋服 着る 右 手 花 一 輪 もつ いる 見る 妙 気 する これ 会場 ふさわしい 物静か する 気持 いい 絵 思う 絵 これ 云う 手っ取り早い 感心 する なる よう 一口 云う しまう れる よう 趣向 タッチ 私 目 立つ 安易 心持 自然 額縁 中 世界 這入る 行ける よう 思う 見る いる 何かしら 嬉しい よう 有難い よう 気 する 来る ほんとう 描く 人 心持 見る いる 自分 心 滲む 込む 来る よう 思う 訳 分る 右 手 名状 出来る 活きる 優雅 曲線 鮮やか 紅い 一 輪 花 絵 全体 一種 宗教 的 気分 与える いる 短い つまる 顔 特殊 ポオズ ない 気高い よう 好い 心持 する 何かしら 人 子 ない 何 菩薩 よう 気 する 日本人 自分 ベラスケズ インファンタ マリア マルゲリタ 方 いい デュラア ホルバイン 方 いい 専門 家 云う せる 右 頬 色 落着 ない 手 小さい 過ぎる 批評 ある しれる 私 事 問題 なる 何 ない これ 本当 芸術 もの 気 する 会場 出る 天幕 張り 工事 仰ぐ 見る 事 考える 間に合せ もの 竹の台 童女 像 間に合せ 時代 流行 無関係 永遠 伝える ら 性質 もの 谷中 駒込 歩く 帰る 八百屋 店先 果物 野菜 美しい 色 今日 特別 眼 つく 骨董 屋 店先 ある 陶器 光沢 心 引く れる 足 とめる 店 棚 上 支那 製 壷 よう もの いくつ 並ぶ いる の 立 止る 眺める いる 内 一つ 取る 下ろす 値段 きく みる 六 円 いう 骨董 品 いう 三越 等 陳列 棚 見る 出来 品 比較 する 考える みる 六 円 の 多く 蒐集 者 安い しれる 私 自分 手 触る 贅沢 もの 触れる よう 気 する 急ぐ もと 棚 返す 下 棚 青い 釉薬 かかる 粗製 壷 二つ 三つ 塵 埋れる ころがる いる の 拾い上げる 見る 粗末 もの ある 釉 色 美しい 好もしい 試し 値 聞く 五拾 銭 いう 一つ 貰う 云う 財布 取り出す ため 壷 棚 返す する 時 する 拍子 誤る 壷 取り落す 下 磁器 堅い もの 並ぶ いる 脆い 壷 口 処 欠ける しまう 私 驚く 粗相 する 云う 主人 致す 置く 所 悪い もの 云う つれ いくら ある いい の 持つ 下さる いう 私 壷 買う 事 決定 する 取り落す こわす の 私 方 あやまる 必要 主人 黙る 破片 渡す いい の ない 今 なる みる 考える られる する これ どちら 正当 私 分る 時 恥じ入る 無意識 あやまつ しまう 訳 代価 五拾 銭 払う する 主人 受取る 云う 困る 入る する もの 考える 解釈 捜す よう 心持 棚 上 見る そこ 一つ 白 釉 かかる 大きい 花瓶 目 つく これ 粗末 ある 鼠色 がかる 白 釉 肌合 鈍重 下膨れ 輪郭 落ちつく いい 気持 する 試し 代価 聞く みる 七 拾 銭 いう それ 買う 事 する 前 欠ける 壷 二つ 持つ 帰る する 主人 承知 する くれる 欠ける の 特別 色合 何 調べる 必要 ある の 持つ 行く いい 一つ 欠ける の 持つ 行く の 私 困る 云う みる いえる とんでも 事 云う 聞き入れる くれる 結局 私 白い 花瓶 こわれる 別 青い 壷 二 点 さげる 帰る 来る 主人 二つ 品 丁寧 新聞紙 包む くれる 安全 持つ 方 教える くれる 私 弱る しまう 悪戯 する つかまる 子供 よう 意気地 ない 心持 なる 主人 云う まま なる 引き下がる 外 ない の 帰る 途中 落着 ない 妙 気 する 軽い 負債 背負う す れる よう 気 する 愉快 これ する 善い の 代価 強いる 取る せる 破片 持つ 帰る の ぎごち 窮屈 気 する 二 個 分 代価 払う 破片 する 破れる 一つ さげる 来る の そこ 説明 出来る 無理 ある よう 思う れる それ 云う 自分 する 事 正当 仮り これ 五拾 銭 五拾 円か 五 百 円 壷 事 臆病 心持 考える みる 理窟 ちがう よう 気 する 方 事柄 簡単 はこぶ そう 気 する 正当 正当 問題 他 利害 問題 ため 蝕 する れる 変る 来る そう 思う れる の 現在 場合 いい する ところ 逆 吾 何 重大 問題 ぶつかる 場合 それ 本質 的 それ 同様 通例 些細 考える られる 問題 翻訳 する 考える みる なる 場合 ある する する みる 始める 問題 正当 光 照らす れる よう 事 ある する 事 思う みる の ドイツ 下宿 屋 室 備え付け 洗面 鉢 過つ こわす 日本人 主婦 詫言 云う の 主婦 方 機嫌 よい 何 ある ビッテ シェーン 繰返す いる 人 永い 滞在 後 なつかしい 想い 残す 下宿 去る 日 なる 主婦 方 差出す 勘定 書 見る 毀れる 洗面 鉢 代価 つく いる 話 ある ある 留学生 仲間 ベルリン 料理 屋 食事 する 時 する よう 一同 連名 絵葉書 かく 時 誰 万年筆 インキ 卓 布 汚す の オーバーケルナー 五 マルク 賠償 金 請求 する 血気 連中 うち 一 人 江戸 っ子 それ インキ どれ 多い つく 事 聞く 返答 たしかめる 後 卓 布 一 杯 散々 楽 書 する 散らす 苦い 顔 する いる オーバー 残す 引上げ 話 ある ドイツ これ 簡単 数字 的 始末 出来る 事 駒込 辺 簡単 よう どちら いい 悪い それ 分る 解釈 従う 私 偶然 関係 する 店 主人 仕打ち それ 私 する 事 考える 事 すべて 愚か 時代 おくれる 虚栄 心 変種 しれる 私 意外 事 出逢う よう 気 する なる 而 する いう よう 商人 そこら 居る 事 愉快 こと よう 思う れる の 宅 帰る 昼飯 食う 今日 アドヴェンチュアー 家人 話す 誰 何 云う くれる 庭 下りる 咲き おくれる 金 蓮 花 コスモス 摘む それ さっき 買う 来る 白 釉 瓶 投げ込む 眺める いる いい 気持 なる これ 眺める いる うち 展覧 会 童女 像 思い出す あれ 美しい 何 云う れる 美しい 絵 あれ 比べる 外 多く 騒がしい 絵 云う 腹 へる いる の 無闇 声 出す いる よう 気 する もの 美しい もの 大人しい 黙る いる それ いつ 見る 人 心 美しい 永遠 響 留める 余韻 人 生活 浄化 する 力 もつ いる 美しい もの 見る とき 見る 時 その後 来る 吾 人 経験 のち がる 反響 ない 訳 ゆく 展覧 会 童女 像 見る 事 壷 アドヴェンチュアー 何 関係 ない 事 よう これ 経験 する 私 これ 二つ 別々 経験 切り離す 考える 事 困難 思う れる 切り離す それ 自分 活きる 経験 なる 影 薄い 抽象 的 誰 知識 なる しまう 吾 学問 もの 方法 馴れる 過ぎる 何 切り離す 過ぎる ため 体験 中 含む れる 一番 大事 もの いつ 見失う いる 肉 肉 骨 骨 切り離す れる 骨 肉 間 潜む 滋味 味わう れる なる これ 勿体ない 事 大正 十 年 十二月 明星\n",
            "からす うり 花 蛾 寺田 寅彦 ことし 庭 からす うり 繁殖 する 中庭 四つ 目垣 ばら からむ それ つる 延ばす 手近 さん 木 侵略 する 樹冠 全部 占領 する 飽き 足らず 今度 垣 反対 側 かえる 触手 のばす つける つる 端 茂る 大小 枝 間 糸 よう 長い たれさがる 下 紅蜀葵 頭 届く そう 驚く 征服 欲 直径 二 三 ミリメートル 細い 茎 どこ 空中 流れ出す の 毎日 おびただしい 花 咲く 落ちる 花 昼間 みんな つぼむ いる それ かわいらしい 夏 夜 妖精 握りこぶし いう 格好 する いる 夕方 太陽 没す 空 あかり 強い 間 こぶし 堅い 握りしめる られる いる 目 放す いる 薄暗い なる かける ころ 見る すべて 花 一 ぺん 開く きる いる の スウィッチ 入れる 数 十 電 燈 一 度 ともる よう 植物 どこ 不思議 スウィッチ ある それ 光 かげん 働的 作用 する 一 度 花 開く せる の 思う れる よう 日 暮れ 方 時計 手 する 花 咲く の 待つ いる 縁側 新聞 読める 読める 明るい さ 時刻 開花 時 開く 始める 開く 終わる 時間 長い さ 五 分 十 分の 間 ある 十分 前 一つ 開く いる の 十分 後 満開 する いる の 驚く 現象 からす うり 花 花 骸骨 いう 感じ する もの 遠く 見る 吉野紙 よう 一抹 煙 よう ある 手 取る 見る 白い 柔らかい 粘り 臭気 ある 繊維 五 葉 星 形 弁 縁辺 放射 する 分岐 する 細かい 網 よう 広がる いる つぼむ いる の 無理 指先 ほごす 開く せる 白い 繊維 縮れ毛 よう 巻く 縮む いる 思う よう 延ばす れる 延ばす する ちぎれる がち それ 空 光 照明 度 ある 限界 値 達する 細胞 組織 内 水圧 高い なる ため 螺旋 状 縮む 伸びる ほる れる 広がる もの 見える それ からす うり 花 一種 光度 計 よう もの 人間 光度 計 発明 する 何 万 年 前 もの 天然 ある の からす うり 花 開く きる しまう ころ なる どこ ない たくさん 蛾 飛ぶ 来る 花 せせる 歩く 無線 電話 召集 する れる 思う よう 一時 あちら こちら 飛ぶ 来る の これ 蛾 一種 光度 計 所有 する いる ため 何 町 何 番地 家 部分 からす うり 花 咲く いる こと 前 承知 する おる そこ 通路 研究 する おく よう 真一文字 飛ぶ 来る の 私 住居 尋ねる 来る 人 真昼間 交番 店屋 聞く 聞く 何 度 まごつく 後 尋ねる あてる もの 蛾 戸外 暗い なる 後 座敷 電 燈 ねらう 来る からす うり 夕顔 花 思う の しれる 来客 ある 応接 する いる 肝心 話 途中 なん 会釈 ない 飛び込む 来る せわしい 旋回 運動 始める の 失礼 来客 頭 顔 衝突 する 接待 ため 出す ある 茶 菓子 上 箔 雪 降らせる 主客 総立ち なる 奇妙 手つき する 手 手 団扇 振り回す みる これ 打ち落とす れる テニス 上手 来客 羽根 はえる ボール 見当 違う 婦人 中 蛾 いやがる こわがる 人 多い よう 今 三 十 五 年 昔 こと ある 田舎 退役 軍人 家 だく 一 人 むすこ 才色兼備 嫁 もらう 家 庭 咲き誇る 夕顔 せせる 来る 蛾 群れ 芳紀 二 八 花嫁 からかい 来る たび 花嫁 まぎる よう 悲鳴 上げる こわがる むすこ 思い 父親 次 年 夕顔 栽培 中止 する 実例 ある 花嫁 夕顔 花 よう 感じ する 女 それ 数 年 後 なくなる 花嫁 花婿 ところ 学者 記憶 夕顔 花 蛾 悲しい 夢幻 世界 残る いる 言う 彼 私 ささやく の 私 彼女 からす うり 花 よう はかない 存在 よう 思う れる の 蛾 複眼 適当 角度 光 当てる 見る 気味 悪い よう 赤い 燐光 類する 光 発する の ある 物すごい 感じ する もの 昔 西洋 雑誌 小説 蛾 お化け 出る の 読む こと ある 目玉 光 妖怪 味 よう もの 帯びる いる 現実 的 色 光 ある の これ 複眼 多数 レンズ 作用 光る 苔 場合 よう 反射 する せい 思う れる 蛾 襲撃 困る 時 宅 猫 連れる 来る 始末 着く 二 匹 いる うち 黄色い ほう やせる っぽい ちの 男 猫 他 なん 能 ない 代わり 蛾 つかまえる こと 妙 得る いる 飛び上がる 思う 一 ぺん はたく 落とす それ おもちゃ する あげく 空腹 食う しまう の 猫 神経 働き 速い さ ねらう 正確 さ われわれ 人間 かなう 猫 見る 人間 テニス ベースボール まだるっこい 滑稽 もの 気 する の 猫 十 分の 一 秒 人間 一 秒 相当 する ねこ 寿命 八 年 人間 八 十 年 相当 する 勘定 なる どちら 長生き わかる これ 書物 読む こと 樫鳥 山鳩 山 鴫 よう 鳥類 目 止まる よう 速度 錯雑 する 樹 枝 間 縫う 飛ぶ 行く 一 枚 木の葉 翼 触れる よう 事 ない これ 鳥 目 調節 速い さ 視覚 応じる 反射 的 行なう れる 羽翼 筋肉 機 制 敏活 物語る もの われわれ 人間 半分 能力 ある 銀座 四つ角 自動車 電車 行き違う 間 巡査 シグナル 助け 借りる 自由自在 通過 する こと できる ちがい 人間 シグナル ある 法律 ある 道徳 ある ため 鳥獣 敏活 さ ない 安心 する 生きる 行く れる ため われわれ 鈍 なる 気 長い なる しまう の 鳥獣 うらやむ 原始 人 三つ子 心 いつ 生き延びる 現代 文明 人 社会 活動 する いる 蛾 はたく 落とす 猫 うらやむ 賛嘆 する 心 ベースボール ホームラン ヒット 喝采 送る 一片 麩 争う 池 鯉 跳躍 憧憬 ラグビー 戦 観客 吸い寄せる 原動力 なる オリンピック 競技 馬 かもしか 魚 妙技 肉薄 する 世界じゅう 人間 努力 成果 展開 する れる いる の 機械 的 文明 発達 人間 欲望 炎 ガソリン 油 注ぐ ガソリン モーター 高速度 与える 自動車 走る せる 飛行機 飛ぶ せる 太平 夢 これら エンジン 騒音 攪乱 する れる しまう の 交通 規則 国際 間 盟約 履行 する れる いる 間 安心 もの 頼み なる 日 いる なん どく 来る しれる 日 来る これら 機械 的 鳥獣 自由 活動 始まる 太平洋 爆撃 隊 映画 人気 呼ぶ 映画 もの なん われわれ する たまらない 容易 できる 思う よう 事 やる 見せる 大衆 喝采 博する の そう 映画 ところ ある いちばん おもしろい の 三 艘 飛行船 船首 並べる 断雲 間 飛行 する いる 上空 追う 迫る 一 隊 爆撃 機 急速 ダイヴィング 小石 落下 する 来る 飛行船 横腹 横腹 間 狭い 空間 電光 かすめる 滝 壺 つば め 舞い上がる 光景 それ ただ 一 艘 数える きれる たくさん 飛行機 あと あと 飛ぶ 飛ぶ の 光景 映写 間 これ 錯綜 する それら 爆撃 機 自身 固定 する れる カメラ 撮影 する れる 四辺 目まぐるしい 光景 映る 出す れる の 映画 われわれ 祖先 数 万 年 間 うらやむ つづける うらやむ 来る 望み 遂げる られる の われわれ 映画 見る こと われわれ 自身 森 樹 間 かける 山鳩 樫鳥 なる しまう の 飛行機 操縦 する 鳥人 神経 訓練 年 発達 する 世界 人口 三 分の 一 五 分の 一 鳥人 なる しまう する 世界 なる 昔 日本人 前後 左右 気 配る 以外 とんび 油揚 さらう れる 用心 する いる よい 昭和 七 年 東京 市民 米 露 爆撃 機 襲う れる とき 処置 とる 真剣 講究 する なる こと なる しまう 襲撃 者 とんび 以上 の 襲撃 する れる 市民 芋虫 以下 無抵抗 軍人 話 よる 爆撃 機 一 キロ テルミット 千 個 搭載 する うる そう 一 台 防御 網 くぐる 市 上空 かける 回る する 千 個 焼夷弾 中 路面 広場 落ちる 川 落ちる する 無効 なる もの 半分 する 五 百 か所 火災 起こる これ 水 かける 消す れる 火 そこ する 十 台 飛ぶ 来る 五 千 か所 火災 突発 する 火事 呆然 見る いる 全市 数 時間 火 海 なる 事 請け合い 際 市民 協力 する 一生懸命 消火 かかる なる 市民 二 百 万 五 分の 一 消火 作業 方法 手 貸す うる 仮定 する 四 十 万 人 手 五 千 か所 火事 引き受ける こと なる 一 か所 八 十 人 あて こと なる なん 覚悟 ない 烏合 衆 八 十 人 一 坪 物 置く 火事 消す 事 できる しれる 充分 知識 訓練 具備 する 八 十 人 完全 統制 もと それぞれ 適当 部署 考究 する れる 練習 する れる 方式 消火 従事 する こと できる 水道 止まる しまう 破壊 消防 方法 確実 延焼 防ぐ 止める こと できる 思う れる これ 大ざっぱ 目の子 勘定 ある 桁 数 最悪 場合 示す もの 思う れる 焼夷弾 投下 ため けが する 人 何 万 人 一 人 もの 老若 ほか 市民 逃げる 隠れる する いける の 空中 襲撃 防御 軍人 間に合う 東京 市民 あわてる 逃げ出す 大正 十 二 年 関東 震災 場合 同様 火事 消防 隊 消す くれる もの 思う 手 つかねる 見物 する いる する 全市 数 時間 完全 灰 なる こと 確実 昔 徳川 時代 江戸 町民 長い 経験 割り出す れる 賢明 周到 法令 非常時 処す 道 明確 指示 する れる する これ 訓練 充分 積む いる の 西洋 文明 輸入 以来 市民 赤ん坊 同様 なる しまう の 考える もの 何 か月 何 年 何 十 年 後 一 度 敵国 飛行機 夏 夕暮れ からす うり 花 集まる 蛾 よう 一時 飛ぶ 来る 日 ある しれる 蛾 はたく 落とす うち 猫 間に合う 高射 砲 常識 考える 頼み なる そう ない 品物 何 空中 莫大 蜘蛛 網 よう もの 張る 蛾 食い止める くい ふう 無い もの 考える みる 花火 よう もの 真綿 網 よう もの 丸める 打ち上げる それ 空中 からす うり 花 よう 開く 敵 機 包む プロペラ からみつく よう ない ふう できる 考える みる 蜘蛛 細い 弱い 糸 網 蝉 捕る れる こと 考える 蚊帳 一 張り ない 網 一 台 飛行機 捕える られる そう 思う れる 試験 する みる よう 気 する の 子供 時分 とんぼ 捕る 細い 糸 両端 豌豆 大 小石 結ぶ それ 空中 投げる 上げる とんぼ 小石 餌 思う 追っかける 来る 糸 うまい ぐあいに 虫 からだ 巻く つく 石 重み 落下 する 来る あれ 参考 なる そう ピアノ 線 両端 錘 つける よう もの 空中 打ち上げる 襲撃 飛行機 隊 迷惑 感じる そう 気 する 爆弾 安価 有効 しれる 戦争 ない うち われわれ 文明 人 戦争 始まる する われわれ 野蛮 人 なる 獣 なる 鳥 なる 魚 なる 昆虫 なる の 機械 文明 発達 する なる 妙 われわれ これら 動物 師匠 する 必要 起こる 来る の 潜航 艇 ペリスコープ 比良 目 目玉 まね 海 翻 車 歩行 タンク 思い出す せる ガスマスク つける 人間 顔 穀 象 何 似る いる 今後 戦争 科学 者 動物 習性 研究 する の 急務 気 する 来る 光 かげん からす うり 花 一 度 開く よう 赤 外 光線 送る 一 度 爆薬 破裂 する よう 仕掛け 考える られる 鳳仙花 実 一定 時間 後 ひとり はじける あれ 似る よう 武器 考える られる の まね する これら 植物 機巧 むつかしい わかる 人間 知恵 些細 植物 及ぶ の 植物 見る 人間 愚鈍 もの ない 思う れる 秋 なる 上野 絵 展覧 会 始まる 日本 画 部 いつ 植物 主題 する 大作 多数 出陳 する れる 描く れる いる 植物 種類 きまる 切る いる だれ 描く 植物 だれ 描く からす うり 花 絵 見る 覚え ない あいだ 晩 床 いう 試み 宅 敷地 内 ある 花 咲く 植物 数 数える みる 二 三 十 ある 思う 数える みる 九 十 余 種 ある 帝 展 絵 現われる 花 種類 数える みる 少ない そう 数 少ない の いい 花 花 絵 少ない の 驚嘆 する せる られる 多く 画家 花 もの 意味 わかる の 失礼 千 万 疑い 起こる 花 もの 植物 枝 偶然 気まぐれ くっつく いる 紙片 糸 くず よう もの ない われわれ 人間 浅はか 知恵 いつ たつ きわめる 尽くせる 不思議 真言秘密 小宇宙 の それ 情けない 紙細工 よう もの 描く わ する れる 昔 私 どこ 僧 心 越 描く 墨絵 芙蓉 軸 見る 記憶 ある 暁天 白露 帯びる 花 ほんとう 生きる 姿 言葉 どおり 紙面 躍動 する いる の ことし 二科会 洋画 展覧 会 見る 天然 描く 絵 見つかる 昔 絵かき 自然 人間 天然 姿 洞察 する こと 常人 水準 以上 卓越 する こと 理想 する いる 見える する 得る 洞察 成果 卑近 わかる やすい 方法 表現 する よう 思う れる このごろ 多数 新進 画家 天然 見る よい 成 的 見る こと する 素人 皮相 的 見る 物 姿 かりる 浅薄 イデオロギー 観 者 わかる にくい 形 表現 する こと 何かしら もの そこ ある そう 見せる する いる の 疑う れる しかた ない よう 仕事 する いる の これ 天然 深い さ 広い さ 忘れる 人間 私 買いかぶる 思い上がる 浅はか 慢心 現われる 結果 ことし 二科会 ひどい 気 する 私 不愉快 日 蒸し暑い いう 設計 者 通風 忘れる こしらえる 美術館 ため それ 蒸し暑い 暑い ため 不愉快 さ 戸惑い する 壁面 絵 ほう ぶつかる 行く せい ある 二科 院展 開会 日 蒸し暑い 記憶 ない の 不思議 大正 十 二 年 開会 日 朝 ひどい 驟雨 ある それ 晴れる 蒸し暑い なる 竹の台 二科会 場 十 一 時 五 十 八 分の 地震 出会う の 宅 帰る 瓦 二 三 枚 落ちる 壁土 こぼれる いる 庭 葉鶏頭 天下 何事 ない よう 真紅 葉 紺碧 空 光 下 かがやかす いる こと 時刻 恐ろしい 前代未聞 火事 渦巻 下町 一帯 広がる ある 生きる 焼く れる 人々 叫喚 声 念仏 題目 声 和 する この世 地獄 わし ある 間 山の手 からす うり 花 薄暮 垣根 咲きそろう 蛾 群れ よう せわしい 蜜 せせる いる の 地震 ある こわれる よう 家 建てる 住まう いる 地震 時 こわれる の あたりまえ 家 火事 起こす 蔓延 する せる 適当 燃料 できる いる 中 火種 用意 する ある の これ 初め 地震 因る 火災 製造 器械 すえる 付ける 待つ いる よう もの 大火 起こる 旋風 誘致 する 炎 海 なる はず 広場 集まる いる 焼け死ぬ の これ 事 ある 後 思う こと われわれ あす 可能 性 必然 性 問題 なる 動物 植物 百 千 年 未来 可能 性 備える 準備 できる いる の 途中 人間 不都合 物 飛び出す 来る ため 違算 生じる 人間 燈火 発明 する ため これ 化かす れる 蛾 生命 脅かす れる よう なる 人間 脆弱 垣根 作る ため からす うり 安定 保証 する れる なる しまう 図 乗る 人間 網 鉄砲 機械 くい ふう する 鳥獣 魚 虫 種 絶やす する いる 因果 めぐる 人間 人間 殺す する の 戦争 汽車 自動車 飛行機 みんな 殺人 機械 このごろ 毎日 よう 飛行機 墜落 する 不思議 こと 外国 遠来 飛行機 霞 浦 着く 日 日本 どこ 飛行機 墜落 する こと なる いる よう 気 する 遠来 客 コンプリメント ある よう とんぼ からす 飛行 中 機関 故障 起こす 墜落 する 話 聞く 飛行機 故障 起こす やすい よう できる いる それ 故障 起こす 鳥 虫 故障 起こる よう できる いる 故障 起こる 何 不思議 ない わけ 不思議 こと 落ちる とき 上 ほう 落ちる 下 落ちる こと 物理 学者 聞く それ 地球 引力 よる いう 詳しい 聞く 数式 持ち出す 説明 する そん 引力 起こる 聞く 事 がら むつかしい なる 結局 満足 返答 得る られる 学者 わかる の われわれ 存在 光栄 有する 二 十 世紀 前半 事 よる 時代 うち 人間 いちばん 思い上がる われわれ 主人 父母 ところ 天然 もの ばか する いる つもり ほんとう 多い 天然 ばか する れる いる 時代 しれる 思う れる 科学 成長 する 生意気 盛り 年 ごろ なる いる もの 思う れる 天然 玄関 のぞく 天然 征服 する 気持ち なる いる よう 科学 者 落ち着く 自然 見る する 長たらしい 数式 並べる 画家 自然 見る する きたならしい 絵の具 塗る 思想家 周囲 人間 見る ぎめ イデオロギー 展開 する 大衆 自分 皮膚 色 見る これ 雷同 する 横文字 題目 唱える いる 一 歩 科学 進む 事情 一変 する 時 われわれ 謙遜 心持ち 自然 人間 熟視 する 本気 まじめ 落ち着く 自然 人間 物 教わる 気 なる なる 現在 いろいろ イズム 名 呼ぶ れる 盲目 ファナチシズム あらし 収まる ほんとう 科学 的 ユートピア 真如 月 ながめる 宵 来る しれる ソロモン 栄華 一 輪 百 合 花 及ぶ 古い 言葉 今 自分 以前 ちがう 意味 聞き取る れる の 昭和 七 年 十月 中央公論\n",
            "さまよえる ユダヤ 人 手記 寺田 寅彦 夏 毎日 よう 実験 室 油 蒸餾 番人 する 暮らす 昔 武士 中 変人 達 酷暑 時候 テラ 着込む 火鉢 囲む 寒い 寒い 云う 話 ある 暑中 烈火 前 立つ 油 煮える の 見る の 案外 爽快 もの 暑い 時 風呂 行く 背中 熱い 湯 浴びる 涼しい なる よい 似る 感覚 ある あれ わけ 涼しい の 温度 低い こと 意味 違う 暑い 前提 ある それ 特殊 条件 加わる 始める 涼しい さ 成立 する の 先年 塩原 山中 歩く いる 時 偶然 涼しい さ 成立 条件 発見 する 時 思う こと ある 蒸す れる よう 暑苦しい 谷間 坂道 空気 中 味噌汁 中 入れる 蓴菜 よう 寒天 中 入れる 小豆 粒 よう 冷たい 空気 大小 粒 交じる それ 適当 速度 われわれ 皮膚 撫でる 通る とき われわれ 正真正銘 涼しい さ 感じる 暑中 冷蔵庫 這入る 時 感じ あれ 正当 涼しい さ ちがう あれ 無意味 沈鬱 涼しい さ 生じる ため 時間 的 空間 的 温度 週 期 的 変化 ある こと 必要 条件 寒中 焚火 する 涼しい さ 感じる ところ 見る 平均 気温 高い こと 涼しい さ 一 条件 なる 平均 気温 擬週 期 的 変化 二 条件 思う れる 変化 低温 方向 起る いい こと 暑中 熱湯 浴びる 実験 分る 思う 温度 急激 降下 する とき 随伴 する 感覚 それ 飽和 する れる 性質 もの 感覚 継続 する せる ため 結局 週 期 的 変化 必要 なる 考える られる 子供 時分 暑い 盛り 背中 沢山 灸 すえる られる 経験 ある 時 背中 感覚 涼しい さ どこ 似通う 物 ある これ ここ 仮説 裏書 する 事 考える いる の 今年 夏 房州 千倉 行く 海岸 強い 輻射 エネルギー 充たす れる 空間 中 縫う 来る 涼風 接す とき 暑い さ 涼しい さ 排他 的 感覚 ない 共存 的 感覚 こと 始める 気 付く の 暑い 涼しい こと 暑い 感じ 伴う こと ない 涼しい さ 感じる 得る られる こと 一般 的 事実 われわれ 暑い 涼しい 二つ 言葉 反対 こと よう 思い込む しまう いる ため 分る 切る こと 今 気が付く いる の ここ われわれ 言葉 嘘つき 欺 する れる いる の 暑い こと 寒暖計 示度 高い こと 関係 ある 意義 いつか 新聞 演芸 風聞 録 頭 悪い いう 通う いる 名優 頭 悪い 証拠 次 よう こと 書く ある 酷暑 日 役者 今日 暑い 見える 観客 席 扇 動き 方 劇 する いる 云う の これ 役者 頭 悪い 証拠 良い 方 破格 一 例 取扱 わる もの しれる 暑い 日 舞台 上 自然 的 通風 涼しい しれる それ 役者 真面目 芝居 やる いる 限り 日 暑い 日 ない 分る はず ない の それ 炭坑 底 働く いる 坑夫 天気 晴れる いる の 暴れる いる の 分る の 同様 扇 動き 方 日 暑い さ 知る の 雁行 乱 見る 伏兵 知る 名将 同等 以上 の しれる これ すべて 役者 昔 知る れる 平凡 事実 しれる それ 今頃 気 付く する これ 頭 悪い 証拠 なる しれる 演芸 風聞 録 頭 いい 記者 意味 書く 相違 ない の これ これ 注釈 つける こと 出来る の 夏 ある 日 正午 駕 籠町 上野 行 電車 乗る 上富 士 前 交叉 点 乗込む 人々 中 四 十 前後 色 黒い 婦人 居る 自分 隣 腰 かける 不思議 挙動 する の 自分 注意 ひく ハンケチ 首筋 辺 はたく よう こと する いる 眼 下 床 一疋 玉虫 落ちる 仰向く 泥 だらけ 床 上 落ちる 起き直る 藻 掻く いる の 見る いる 乗客 うち 誰 それ 拾い上げる する 人 ない 自分 甲虫 つまみ上げる ハンケチ 背中 泥 拭う いる 隣 女 それ 毒虫 聞く 虫 ハンケチ くるむ カク シ 押し込む 自分 チェスタートン ブラウン 教父 秘密 読みかける 読む つづける 研究所 帰る 思い出す ハンケチ 開ける みる 苦しむ 見える 糞 沢山 ひる 散らす 痕 ハンケチ 印 銘 する れる いる 手近 ある アルコール 数 滴 机 上 垂らす 上 玉虫 口 おっつける 虫 活溌 嘴 動かす アルコール 飲み込む それ われわれ 眼 はさむ さ うまい そう 飲む いる よう 見える 虫 表情 もの ある 得る 知る 机 上 アルコール 減じる 行く 速度 感じ 起す せる の 幾 ミリグラム 毒液 飲む 終る 石 よう 動く なる しまう そこ 若い 君 やって来る 自分 君 虫 甦る 思う まま 死ぬ しまう 思う 聞く 自分 分る の 君 二 〇 プロセント 甦る 云う 自分 百 プロセント 死ぬ こと する それ 賭 する する 勘定 なる 問題 色々 議論 する 午後 茶 時間 皆 集まる とき 自分 玉虫 どこ 婦人 髪の毛 附着 する 電車 中 運ぶ れる 問題 出す 君 染井 墓地 説 出す 私 吉祥寺 云う みる 婦人 一 人 男 連れ ある 電車 離れる 向う側 腰 かける いる 後 隣 空席 出来る とき 女 方 そこ 行く 何かしら 話 する いる の われわれ 問題 虫 髪 附く それ 首筋 這う 下りる 人 感覚 刺戟 する くらい 時間 経過 する もの の 時間 決定 する れる 人 電車 来る もの 仮定 する 時間 電車 速度 相乗 積 等しい 半径 地図 上 円 描く 上 ある 樹林 物色 する こと 出来る 簡単 行く 玉虫 一 例 われわれ われわれ 現在 こびり付く 過去 一片 からだ どこ くっつける 歩く いる こと いい 例証 なる 日 夕刊 吉祥寺 染井 墓地 犯罪 行う れる 記事 出る する 探偵 自分 一つ 月並み 探偵 小説 心 描く これ 玉虫 題す しれる アルコール 飲む 玉虫 生き返る 人間 する 一 ポンド アルコール 飲む わけ 手近 ある 水銀 燈 点じる 玉虫 照らす みる 美しい 緑色 見える なる びたひわ 茶色 金属 光沢 見せる 腹 美しい 赤銅 色 見る られる 夏 夜 神田 喫茶店 はいる 一 杯 アイスクリーム 食う アイスクリーム 香味 普通 ヴァニラ 外 一種 特有 香味 混じる いる の 気がつく する それ 杏仁 水 こと 思い出す 妙 記憶 喚ぶ 起す れる 来る の 中学 四 年 頃 こと 思う 同級 君 脚気 亡くなる われわれ 数 人 親しい 連中 葬式 行く 南国 真夏 暑い 盛り 町 東 村 二 里 樹 蔭 一つ ない 稲田 中 田圃 道 歩く 行く 向う 着く とき 一同 コップ 入れる 黄色い 飲料 振舞う れる それ 強い 薬 臭い 匂 甘い 味 もつ 珍しい 飲料 それ 一種 甘い 水薬 の 君 家 医家 炎天 長途 歩く 来る われわれ 子供 たち ため 暑気 払い 清涼 剤 振舞う くれる の 考える 飲料 匂 主調 なす もの 杏仁 水 明治 二 十 年代 片田舎 出来事 考える とき 杏仁 水 饗応 オリジナル ハイカラ 現象 よう 気 する 大学 在学 中 学生 ため 無料 診察 引受ける いる 校医 氏 居る いたずら 好き 学生 達 彼 杏仁 水 渾名 奉る いる 理由 簡単 こと 病気 処方 杏仁 水 零 点 幾 グラム 加える られる いう いつか 診察 受ける 行く とき 先 来る いる 一 学生 貰う 処方箋 見る 杏仁 水 云う する 氏 平然 君 等 杏仁 水 杏仁 水 馬鹿 する 杏仁 水 人 殺す 思う 殺せる 云う 場合 杏仁 水 陳腐 もの コンヴェンショナル もの 代表 現われる わけ 自分 五 十 年 生涯 記録 索引 繰る 杏仁 水 項 見る 二つ 箇条 出る 来る 近来 杏仁 水 匂 する 水薬 飲ます れる 記憶 ない 久しい 嗅ぐ 匂 ため 今 アイスクリーム 匂 刺戟 飛び出す 追想 矢 一 飛ぶ 三 十 年 前 飛び越す の しれる 不思議 こと 一 杯 アイスクリーム 香味 時 自分 何 清新 する 予言 的 もの よう 気 する の 千倉 泊る 宿屋 二 階 床 道路 平面 ある 自分 部屋 前 橋 袂 当る いる 夕方 橋 上 涼み 来る 人 相対 する 楽 話 出来る 宿 主人 一 匹 子猫 頸 つまむ ぶら下げる 橋 向う側 袂 行く ぽい それ ほうり出す 猫 何事 起る よう 橋 欄干 嗅ぐ いる 女中 聞く みる 橋 袂 猫 捨てる 来る 人 毎日 よう ある それら 不幸 孤児 等 自然 径路 宿屋 台所 迷い込む 来る そう 始める ここ 来る とき 村 痩せる 猫 数 多い こと 気が付く 猫 捨てる 人 多い の 思う れる 猫 捨てる 出る 人 格好 捨場 求める 歩く 行く うち 一つ 橋 袂 来る する 人 そこ 目的 行為 果たす 相違 ない これ 橋 袂 交通 線 上 一つ 特異 点 歩行 者 心 テンポ ある 加速度 与える ため 自然 予定 行為 衝動 受ける の しれる われわれ 生活 行路 上 橋 袂 ある する そこ 自分 過去 重荷 下ろす 躊躇 する こと ある 同様 国家 社会 歴史 進展 途上 幾多 橋 袂 ある 教育 家 為政者 行手 橋 袂 所在 充分 地図 上 研究 する おく なる 思う 弁慶 辻斬 する の 橋 袂 鍋焼 うどん 夜鷹 橋 袂 選ぶ 店 張る 獄門 晒首 迷子 しる 御触れ 掲示 橋 袂 ふさわしい 地点 考える られる これ 云う ない 橋 多く 交通 路 集合 点 一 種 関門 なる いる 街路 交通 流れ 密度 大きい こと 二 意味 橋 袂 よう もの 個人 生活 人類 歴史 上 沢山 例 ある 十字軍 一 九 一 四 年 欧 洲 大戦 世界 人類 歴史 橋 袂 ポール セザンヌ 名づける られる 一 人 田舎 爺 世界 美術 史 上 橋 袂 ニュートン アインシュタイン プランク 等 する 仕事 物理 学 史上 それぞれ 橋 袂 云う れる われわれ 個人 いちばん 重大 の われわれ 内部 生活 一 並び 二 意味 橋 袂 ここ われわれ 身 投げる 弁慶 薙刀 なる 夜鷹 食う れる 鍋焼 うどん 腹 こしらえる 行手 旅 急ぐ 昭和 四 年 九月 思想\n",
            "かに 合戦 桃太郎 寺田 寅彦 近ごろ ある 地方 小学校 先生 たち 児童 赤化 目的 日本 固有 おとぎ話 いろいろ 珍しい オリジナル 解釈 付加 する 教授 する こと 新聞 紙上 報ずる られる 詳細 事実 確か なん かに 合戦 話 出る 来る さる 資本 家 かに 労働 者 こと なる おる かに 労働 栽培 する 柿 実 公 横領 する 搾取 する こと なる そう 言う 言う れる しれる 多年 手塩 かける 子供 ら 安心 する 学校 託す いる 赤い 親 たち 心持ち 言う 苦労 する 育てる だく だい 子供 ら 赤い 先生 ため だい ない する れる 思う しれる する 場合 さる 先生 かに 親 たち 親 多年 辛苦 たくわえる 貯金 赤い むすこ 娘 運動 資金 持ち出す する 場合 さる 子供 かに おやじ 子供 使嗾 する 親爺 金 持ち出す せる ざる 一種 搾取 者 桃太郎 鬼 島 征服 する の いける 東海 仙境 蓬莱 島 鎚 鎌 旗 征服 する しまう する 赤い 桃太郎 いける くだる こと 赤 白 両派 分かれる 両方 言い合う いる 秋 夜長 話 種 尽きる そう ない 手ぬぐい 一筋 箸 一 本 物 使い よう 次第 人 殺す こと できる 人 助ける こと できる の 言うまでもない こと おとぎ話 もの だいたい 人間 世界 事実 方 則 特殊 譬喩 形式 表現 する もの さる かに 出る 来る 栗 いが 搗臼 よう もの 出る 来る それら みんな 仮面 かぶる 人間 役者 仮装 する それら 仮装 人物 相互 間 起こる いろいろ 事件 葛藤 ちがう 形 日常 われわれ 周囲 どこ 起こる いる こと の 事 善い 悪い 批判 超越 する 世の中 起こる いる 事実 の 握り飯 柿 種 交換 よう 事 がら 毎日 われわれ 行なう いる こと 月謝 払う 学校 行く の 保険 いる の お寺 金 納める 後生 願う の 泥棒 親分 子分 遊ぶ せる 食う せる いる の それ 善い 悪い 別 この世 事実 の さる よう 人 ある かに よう 人 ある の 事実 それ 世界 さる ある かに ある 事実 よう 事実 さる もの ある の 不都合 言う 憤慨 する みる ところ 世界じゅう さる 絶滅 する こと むつかしい かに 弱い さ いくじ ない さ ののしる みる ところ かに さる 強い する こと 人力 及ぶ 限り 蜂 いが 栗 臼 かに 味方 なる 登場 する の 自然 方 則 出る 来る 法律 蜂 栗 臼 登場 禁じる 今度 さそり ばら ある 石 飛び出す 来る しれる 桃太郎 生まれる かわり 栗 生まれる 栗太 郎 団子 代わり ある パン キャラメル 持つ 猫 カンガルー 連れる 鬼 島 征伐 する おく 不都合 こと いける 言う だれ 征伐 行く の 現世 事実 証拠 歴史 書物 あける 二 三 ページ 読む 見つかる おとぎ話 もの 人間 世界 事実 方 則 教える 科学 的 教科書 する の 善い 悪い 限定 的 モラール 批判 解説 付加 する 説明 する 広大 無辺 意味 もつ もの それ いいかげん 一 面 的 やぶる にらむ 注解 つける 片付ける しまう の おとぎ話 台無し なる しまう おとぎ話 おとぎ話 よい の おとぎ話 物理 学 教科書 石 上 下 落ちる 事実 教える 善い 悪い 落ちる 石 下 落ちる 上 落ちる 事実 利用 する それ 利用 する 人 勝手 なる これ 利用 する 米 つく こと できる 人殺し する こと できる の 重力 講義 する 物理 学 先生 重力 人殺し する 不都合 もの 言う 生徒 訓戒 する それ 滑稽 通り越す しまう 狂気 沙汰 おとぎ話 下手 評注 加える の これ 類する 滑稽 堕す うる 可能 性 ある これ 関連 する 思う こと 今日 普通 教育 しかた 共通 する 一種 器械 的 形式 主義 ある する こと 昔 小学校 先生 ちがう 立派 教育 者 素養 ある 過ぎる ため 上 文部省 監督 行き届く 過ぎる ため 教場 授業 窮屈 煩瑣 鋳型 いう しまう 結果 自由 広大 もの 極端 制限 する しまう いる の 疑い ある 小学校 理科 教程 よう もの 見る 膳立て 立派 料理 種 限定 する れる しまう 生徒 それ 食う 満足 する 他 食物 ある こと いっさい 忘却 する しまう 今度 ひとり 旅 出る 宿屋 食膳 おかず 食う 方 わかる よう 風 ある の 一 本 稲 穂 教材 する の 一生懸命 骨 折る 三 日 四 日 徹夜 する 教程 こしらえる かかる いける 思う 不用意 取る 来る 一 草 一 木 机上 置く 一 時間 あいだ 無言 児童 いっしょ ひねくる 回す 虫めがね 見る する ほう 場合 はるか 有効 理科 教育 なる こと ある する 先生 押しつける られる 植物 学 十分 運動 場 はねる 回る 後 忘れる しまう しれる 一 時間 植物 にらむ くら する こと 効果 生涯 残る こと 可能 おとぎ話 植物 標本 われわれ 教 うる もの 人間 自然 事実 われわれ 事実 正しい 認識 する の 一 先生 黙る 児童 事実 熟視 する 充分 思う の われわれ 子供 時分 おとぎ話 おとぎ話 注釈 ない 教わる 話 何 十 回 何 百 回 繰り返す 教わる もの する それら 話 中 含む れる いる 事実 方 則 いる ない 自然 自然 骨肉 間 しみ込む しまう もと 形 残る なる いる それら もの 認識 われわれ からだ すみ からすみ 行き渡る われわれ 知恵 重要 成分 なす いる の これら おとぎ話 尻 曲がる 殻 詰め込む 丸のみ する せる られる いる の 昔 体外 排泄 する れる どこ よそ 畑 肥料 なる いる こと 思う 昭和 八 年 十一月 文芸春秋\n",
            "    286     286    5283 doc_name.txt\n",
            "    286  572889 4040395 doc_text.txt\n",
            "    572  573175 4045678 total\n"
          ],
          "name": "stdout"
        }
      ]
    },
    {
      "cell_type": "markdown",
      "metadata": {
        "id": "jWVBwJtneYus",
        "colab_type": "text"
      },
      "source": [
        "##3. doc2vecで類似文書検索"
      ]
    },
    {
      "cell_type": "code",
      "metadata": {
        "id": "qb4SaaN6fZHI",
        "colab_type": "code",
        "outputId": "0ed1cfdf-3699-49a9-b08c-1f7fa959ddbb",
        "colab": {
          "base_uri": "https://localhost:8080/",
          "height": 70
        }
      },
      "source": [
        "#coding: utf-8\n",
        "\n",
        "from gensim.models import doc2vec\n",
        "import codecs\n",
        "import sys\n",
        "\n",
        "# テキスト読み込み\n",
        "docs = doc2vec.TaggedLineDocument('doc_text.txt')\n",
        "\n",
        "# 名前読み込み（結果表示に使用する）\n",
        "with codecs.open('doc_name.txt', 'r', encoding='utf-8') as f:    \n",
        "    doc_names = [name.replace('\\n', '') for name in f.readlines()]\n",
        "\n",
        "# モデルデータ作成\n",
        "# vector_size: ベクトル圧縮時の次元数\n",
        "# window: 解析時に対象単語の前後何単語まで見るか\n",
        "# min_count: 出現回数が何回以下の単語を無視するか\n",
        "# workers: スレッド数\n",
        "model = doc2vec.Doc2Vec(docs, vector_size=100, window=10, min_count=2, workers=4)\n",
        "\n",
        "# データ保存\n",
        "#model.save('d.model')\n",
        "#model.save_word2vec_format('d.w2vmodel')\n",
        "\n",
        "# 類似単語\n",
        "#word = u'物理'\n",
        "#for similar_word in model.most_similar(positive=word):\n",
        "#\tprint similar_word[0], similar_word[1]\n",
        "\n",
        "# 各文書について、類似度上位10件の文書リストを出力\n",
        "f = open(\"res.txt\", \"w\")\n",
        "for idx in range(len(doc_names)):\n",
        "    f.write(str(idx) + ' ')\n",
        "    for similar_doc in model.docvecs.most_similar(idx):  \n",
        "#       print(doc_names[idx].encode('utf-8'), doc_names[similar_doc[0]].encode('utf-8'), similar_doc[1])\n",
        "#       print(doc_names[idx], doc_names[similar_doc[0]], similar_doc[1])\n",
        "#\t    print(similar_doc[0])\n",
        "        f.write(str(similar_doc[0]) + ' ')\n",
        "#    print('\\n')\n",
        "    f.write('\\n')\n",
        "f.close()"
      ],
      "execution_count": 0,
      "outputs": [
        {
          "output_type": "stream",
          "text": [
            "/usr/local/lib/python3.6/dist-packages/gensim/matutils.py:737: FutureWarning: Conversion of the second argument of issubdtype from `int` to `np.signedinteger` is deprecated. In future, it will be treated as `np.int64 == np.dtype(int).type`.\n",
            "  if np.issubdtype(vec.dtype, np.int):\n"
          ],
          "name": "stderr"
        }
      ]
    },
    {
      "cell_type": "code",
      "metadata": {
        "id": "eiCVfDSOe10Q",
        "colab_type": "code",
        "outputId": "5397a704-c2af-4311-d5ec-69813990529e",
        "colab": {
          "base_uri": "https://localhost:8080/",
          "height": 202
        }
      },
      "source": [
        "%%bash\n",
        "tail res.txt\n",
        "wc res.txt"
      ],
      "execution_count": 0,
      "outputs": [
        {
          "output_type": "stream",
          "text": [
            "276 106 109 270 122 221 265 50 227 96 75 \n",
            "277 99 117 176 149 34 0 78 9 33 163 \n",
            "278 175 43 161 132 76 31 111 81 88 162 \n",
            "279 159 269 62 115 182 215 86 125 123 22 \n",
            "280 211 108 176 117 0 20 118 53 149 99 \n",
            "281 18 232 244 100 129 255 236 87 178 119 \n",
            "282 27 183 4 67 229 105 36 167 55 45 \n",
            "283 168 179 141 111 31 83 110 171 71 259 \n",
            "284 69 258 265 193 201 270 188 109 134 276 \n",
            "285 42 64 243 121 170 32 187 70 165 7 \n",
            "  286  3146 11809 res.txt\n"
          ],
          "name": "stdout"
        }
      ]
    },
    {
      "cell_type": "code",
      "metadata": {
        "id": "I8TIsDGmo4RW",
        "colab_type": "code",
        "outputId": "b7a97191-0538-4c40-dc7e-1ab4b7b7462b",
        "colab": {
          "base_uri": "https://localhost:8080/",
          "height": 84
        }
      },
      "source": [
        "%%bash\n",
        "wc *.txt\n",
        "cp *.txt /content/drive/'My Drive'/'Colab Notebooks'/TTP/"
      ],
      "execution_count": 0,
      "outputs": [
        {
          "output_type": "stream",
          "text": [
            "    286     286    5283 doc_name.txt\n",
            "    286  344461 2286917 doc_text.txt\n",
            "    286    3146   11809 res.txt\n",
            "    858  347893 2304009 total\n"
          ],
          "name": "stdout"
        }
      ]
    },
    {
      "cell_type": "markdown",
      "metadata": {
        "id": "GpGPKWEekaLo",
        "colab_type": "text"
      },
      "source": [
        "##4. レコメンドデータ生成"
      ]
    },
    {
      "cell_type": "code",
      "metadata": {
        "id": "gTFr14krwlgq",
        "colab_type": "code",
        "outputId": "629b5f80-375e-4fdf-c185-7fbcbf5400ef",
        "colab": {
          "base_uri": "https://localhost:8080/",
          "height": 185
        }
      },
      "source": [
        "%%bash\n",
        "ls -la"
      ],
      "execution_count": 0,
      "outputs": [
        {
          "output_type": "stream",
          "text": [
            "total 4008\n",
            "drwxr-xr-x 1 root root    4096 May  5 05:32 .\n",
            "drwxr-xr-x 1 root root    4096 May  5 05:12 ..\n",
            "drwxr-xr-x 1 root root    4096 Apr 29 16:32 .config\n",
            "-rw-r--r-- 1 root root    5283 May  5 06:18 doc_name.txt\n",
            "-rw-r--r-- 1 root root 4040395 May  5 06:18 doc_text.txt\n",
            "drwx------ 3 root root    4096 May  5 05:15 drive\n",
            "-rw-r--r-- 1 root root   11809 May  5 05:35 res.txt\n",
            "drwxr-xr-x 1 root root    4096 Apr 29 16:32 sample_data\n",
            "drwxrwx--- 2 root  999   20480 Apr 21 14:54 terada\n"
          ],
          "name": "stdout"
        }
      ]
    },
    {
      "cell_type": "code",
      "metadata": {
        "id": "hCjexll438pu",
        "colab_type": "code",
        "colab": {}
      },
      "source": [
        ""
      ],
      "execution_count": 0,
      "outputs": []
    }
  ]
}